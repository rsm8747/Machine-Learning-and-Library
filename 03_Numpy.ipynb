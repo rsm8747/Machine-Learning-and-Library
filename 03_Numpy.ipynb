{
 "cells": [
  {
   "cell_type": "code",
   "execution_count": 1,
   "id": "ef4cae47-f9ce-49c1-9cff-5f4b2eb58b6b",
   "metadata": {},
   "outputs": [],
   "source": [
    "import numpy as np"
   ]
  },
  {
   "cell_type": "markdown",
   "id": "83f425fa-e06e-43f9-97a4-d2dadb25fbf1",
   "metadata": {},
   "source": [
    "### 4 how to crt 1D Array ?"
   ]
  },
  {
   "cell_type": "code",
   "execution_count": 4,
   "id": "56e8f2b9-fa79-442b-b3a8-52f49909806b",
   "metadata": {},
   "outputs": [
    {
     "name": "stdout",
     "output_type": "stream",
     "text": [
      "1d array:  [1 2 3]\n"
     ]
    }
   ],
   "source": [
    "num = [1,2,3]\n",
    "num = np.array(num)\n",
    "print(\"1d array: \",num)"
   ]
  },
  {
   "cell_type": "markdown",
   "id": "3f0d640b-6274-4462-86c1-38e0647249ad",
   "metadata": {},
   "source": [
    "### 5 how to crt 2D Array ?"
   ]
  },
  {
   "cell_type": "code",
   "execution_count": 7,
   "id": "a8f032bb-7dad-4d84-bf73-9557a41a9a14",
   "metadata": {},
   "outputs": [
    {
     "name": "stdout",
     "output_type": "stream",
     "text": [
      "\n",
      "2d array : \n",
      " [[1 2 3]\n",
      " [4 5 6]]\n"
     ]
    }
   ],
   "source": [
    "num2 =[[1,2,3],[4,5,6]]\n",
    "num2 = np.array(num2)\n",
    "print(\"\\n2d array : \\n\", num2)"
   ]
  },
  {
   "cell_type": "markdown",
   "id": "f5498ed2-2e2a-4298-becf-486329641c8b",
   "metadata": {},
   "source": [
    "### 6 how to crt 3D Array or ND Array ?"
   ]
  },
  {
   "cell_type": "code",
   "execution_count": 10,
   "id": "7442a102-bd0d-421c-be86-447f05ed8795",
   "metadata": {},
   "outputs": [
    {
     "name": "stdout",
     "output_type": "stream",
     "text": [
      "\n",
      "3d array : \n",
      " [[[1 2 3]\n",
      "  [4 5 6]\n",
      "  [7 8 9]]]\n"
     ]
    }
   ],
   "source": [
    "num3 =[[[1,2,3],[4,5,6],[7,8,9]]]\n",
    "num3 = np.array(num3)\n",
    "print(\"\\n3d array : \\n\",num3)"
   ]
  },
  {
   "cell_type": "markdown",
   "id": "8d3d4664-0b90-485f-9380-525dfed7d757",
   "metadata": {},
   "source": [
    "### 7 how to identified datatype for numpy array ?"
   ]
  },
  {
   "cell_type": "code",
   "execution_count": 13,
   "id": "6e054923-fce3-47fc-9c11-4e2df42146bd",
   "metadata": {},
   "outputs": [
    {
     "name": "stdout",
     "output_type": "stream",
     "text": [
      "\n",
      " data type num 3 int32\n"
     ]
    }
   ],
   "source": [
    "print(\"\\n data type num 3\",num3.dtype)"
   ]
  },
  {
   "cell_type": "markdown",
   "id": "c835443c-2889-49fa-8817-7efad9235576",
   "metadata": {},
   "source": [
    "### 8 Print 1D array with 5 zeros"
   ]
  },
  {
   "cell_type": "code",
   "execution_count": 16,
   "id": "9e79aa09-3445-4bb3-873a-3a8b16cd157d",
   "metadata": {},
   "outputs": [
    {
     "name": "stdout",
     "output_type": "stream",
     "text": [
      "single array:  [0. 0. 0. 0. 0.]\n"
     ]
    }
   ],
   "source": [
    "arr =np.zeros(5)\n",
    "print(\"single array: \",arr)"
   ]
  },
  {
   "cell_type": "markdown",
   "id": "36756252-b0fb-4033-ad2b-73b32065cc64",
   "metadata": {},
   "source": [
    "### 9 print zeros with 2 rows and columns ?"
   ]
  },
  {
   "cell_type": "code",
   "execution_count": 19,
   "id": "5e2fd9b5-16ce-4673-a5c0-fa97ae0c9f46",
   "metadata": {},
   "outputs": [
    {
     "name": "stdout",
     "output_type": "stream",
     "text": [
      "Array with 2 rows adn 3 cols: \n",
      " [[0. 0. 0.]\n",
      " [0. 0. 0.]]\n"
     ]
    }
   ],
   "source": [
    "arr2 = np.zeros((2,3))\n",
    "print(\"Array with 2 rows adn 3 cols: \\n\", arr2)"
   ]
  },
  {
   "cell_type": "markdown",
   "id": "b99c08ab-6020-4f3b-95e3-66ac0300874a",
   "metadata": {},
   "source": [
    "### 10 crt arrray with eye() diagonal values ?"
   ]
  },
  {
   "cell_type": "code",
   "execution_count": 22,
   "id": "afc40db1-e33a-4fed-ad59-ed90ffc00434",
   "metadata": {},
   "outputs": [
    {
     "name": "stdout",
     "output_type": "stream",
     "text": [
      "diagonal values : \n",
      " [[1. 0. 0. 0.]\n",
      " [0. 1. 0. 0.]\n",
      " [0. 0. 1. 0.]\n",
      " [0. 0. 0. 1.]]\n"
     ]
    }
   ],
   "source": [
    "arr3 = np.eye(4)\n",
    "print(\"diagonal values : \\n\",arr3)"
   ]
  },
  {
   "cell_type": "markdown",
   "id": "d7eaa80b-6075-4118-af0e-3478e02d4f62",
   "metadata": {},
   "source": [
    "### 11. use of diag() square matrix ?"
   ]
  },
  {
   "cell_type": "code",
   "execution_count": 25,
   "id": "62ae1930-a21c-4e82-a6f5-ae896edfa139",
   "metadata": {},
   "outputs": [
    {
     "name": "stdout",
     "output_type": "stream",
     "text": [
      "square matrix \n",
      " [[1 0 0 0]\n",
      " [0 2 0 0]\n",
      " [0 0 3 0]\n",
      " [0 0 0 4]]\n"
     ]
    }
   ],
   "source": [
    "arr3 = np.diag([1,2,3,4])\n",
    "print(\"square matrix \\n\",arr3)"
   ]
  },
  {
   "cell_type": "markdown",
   "id": "067c1a42-f2dd-44de-bee9-d6549bca29e4",
   "metadata": {},
   "source": [
    "### 12 Print Range Between 1 to 15 and show 4 integers random numbers"
   ]
  },
  {
   "cell_type": "code",
   "execution_count": 28,
   "id": "b618b7a2-2d38-49de-af57-75337aaf2bfe",
   "metadata": {},
   "outputs": [
    {
     "name": "stdout",
     "output_type": "stream",
     "text": [
      "\n",
      " random number from 1 to 15  [10  6  7  7]\n"
     ]
    }
   ],
   "source": [
    "rand_arr = np.random.randint(1,15,4)\n",
    "print(\"\\n random number from 1 to 15 \", rand_arr)"
   ]
  },
  {
   "cell_type": "markdown",
   "id": "16f91840-9279-48c1-8bb8-9692ae3f013f",
   "metadata": {},
   "source": [
    "### 13. Describe the example of seed() function ? adn how to use it ? why seed() ?\n",
    "\n",
    "#### seed() is used in the process of generating the same sequences of random numbers on a constant basis and use the same number at each time when called"
   ]
  },
  {
   "cell_type": "code",
   "execution_count": 31,
   "id": "3859bee3-e2cb-41d0-93bf-fe731d5fc2d8",
   "metadata": {},
   "outputs": [
    {
     "name": "stdout",
     "output_type": "stream",
     "text": [
      "seed() showing same number only :  [67 93 99 18 84 58 87 98 97 48 74 33 47 97 26 84 79 37 97 81]\n"
     ]
    }
   ],
   "source": [
    "# How many ever times we execute the above code, it will get us the same numbers that are picked randomly for the first time\n",
    "np.random.seed(123)\n",
    "rand_arr4 = np.random.randint(1,100,20)\n",
    "print(\"seed() showing same number only : \", rand_arr4)"
   ]
  },
  {
   "cell_type": "markdown",
   "id": "f818179f-dc38-4918-9871-46015b2176d2",
   "metadata": {},
   "source": [
    "#### 14. Print first position, last position and 2nd and 3rd position"
   ]
  },
  {
   "cell_type": "code",
   "execution_count": 34,
   "id": "b743fded-699d-4e24-8aa3-5fcc7c4d8f6e",
   "metadata": {},
   "outputs": [
    {
     "name": "stdout",
     "output_type": "stream",
     "text": [
      "first position :  5\n",
      "third position :  25\n"
     ]
    }
   ],
   "source": [
    "num = np.array([5,15,25,35])\n",
    "print(\"first position : \",num[0]) #5\n",
    "print(\"third position : \",num[2]) #25"
   ]
  },
  {
   "cell_type": "markdown",
   "id": "1e78e481-eace-4ecf-868e-373a322ea0ad",
   "metadata": {},
   "source": [
    "### 15.if we don’t know last number of position how to show it by pragmatically?"
   ]
  },
  {
   "cell_type": "code",
   "execution_count": 37,
   "id": "ab0b77c7-c0f8-4c7c-be6e-7772b761b97d",
   "metadata": {},
   "outputs": [
    {
     "name": "stdout",
     "output_type": "stream",
     "text": [
      "last indexing done by -1 position :  35\n"
     ]
    }
   ],
   "source": [
    "num = np.array([5,15,25,35])\n",
    "print(\"last indexing done by -1 position : \",num[-1])"
   ]
  },
  {
   "cell_type": "markdown",
   "id": "711a640b-fa0b-40c9-870a-0ff3d932f59c",
   "metadata": {},
   "source": [
    "### 16. create a matrix 3 * 3 with value ranging from 0 to 8"
   ]
  },
  {
   "cell_type": "code",
   "execution_count": 40,
   "id": "dd7a8287-956a-414e-acce-1433b91a7e4f",
   "metadata": {},
   "outputs": [
    {
     "name": "stdout",
     "output_type": "stream",
     "text": [
      "[[0 1 2]\n",
      " [3 4 5]\n",
      " [6 7 8]]\n"
     ]
    }
   ],
   "source": [
    "arr = np.arange(0,9).reshape(3,3)\n",
    "print(arr)\n"
   ]
  },
  {
   "cell_type": "markdown",
   "id": "7f7d4955-aea9-433c-baea-fd4ef7ba4dc2",
   "metadata": {},
   "source": [
    "### 17. create matrix 2 * 2 with value ranging from 1 to 3"
   ]
  },
  {
   "cell_type": "code",
   "execution_count": 43,
   "id": "f6fd7a3d-7be7-404f-8c38-1a728c3cef78",
   "metadata": {},
   "outputs": [
    {
     "name": "stdout",
     "output_type": "stream",
     "text": [
      "[[0 1]\n",
      " [2 3]]\n"
     ]
    }
   ],
   "source": [
    "arr = np.arange(0,4).reshape(2,2)\n",
    "print(arr)"
   ]
  },
  {
   "cell_type": "markdown",
   "id": "09556211-31ef-458f-ab21-f8893c8b0d13",
   "metadata": {},
   "source": [
    "### 18. create matrix 2 * 2 with value ranging from 1 to 4"
   ]
  },
  {
   "cell_type": "code",
   "execution_count": 46,
   "id": "df52ba77-7eb6-4c1f-8e39-99acd21d769c",
   "metadata": {},
   "outputs": [
    {
     "name": "stdout",
     "output_type": "stream",
     "text": [
      "[[1 2]\n",
      " [3 4]]\n"
     ]
    }
   ],
   "source": [
    "arr = np.arange(1,5).reshape(2,2)\n",
    "print(arr)"
   ]
  },
  {
   "cell_type": "markdown",
   "id": "6d988db6-ec9c-461e-a35b-7b5c7f67a9f9",
   "metadata": {},
   "source": [
    "### 19. print random number from 0 to 1"
   ]
  },
  {
   "cell_type": "code",
   "execution_count": 49,
   "id": "1726c3f1-77fb-4b23-b622-56d5ea939101",
   "metadata": {},
   "outputs": [
    {
     "name": "stdout",
     "output_type": "stream",
     "text": [
      "random number from 0 to 1  0.7379954057320357\n"
     ]
    }
   ],
   "source": [
    "a = np.random.rand()\n",
    "print(\"random number from 0 to 1 \", a)"
   ]
  },
  {
   "cell_type": "markdown",
   "id": "ecc24b02-ffbb-4e25-bd29-a5375642800c",
   "metadata": {},
   "source": [
    "### 20. print size of num array"
   ]
  },
  {
   "cell_type": "code",
   "execution_count": 52,
   "id": "d83dd2f4-cc8a-49c1-8030-5363414238f7",
   "metadata": {},
   "outputs": [
    {
     "name": "stdout",
     "output_type": "stream",
     "text": [
      "\n",
      " size \n",
      " 4\n"
     ]
    }
   ],
   "source": [
    "num = np.array([5,15,25,35])\n",
    "print(\"\\n size \\n\",num.size) #100"
   ]
  },
  {
   "cell_type": "markdown",
   "id": "889207f6-8950-4a9c-afd5-64388fd2f04e",
   "metadata": {},
   "source": [
    "### 21. create an array of 20 linearly spaced point between 0 to 1"
   ]
  },
  {
   "cell_type": "code",
   "execution_count": 55,
   "id": "5189bed8-aef5-4c1d-aecf-1c751dc85c7d",
   "metadata": {},
   "outputs": [
    {
     "name": "stdout",
     "output_type": "stream",
     "text": [
      "[0.         0.05263158 0.10526316 0.15789474 0.21052632 0.26315789\n",
      " 0.31578947 0.36842105 0.42105263 0.47368421 0.52631579 0.57894737\n",
      " 0.63157895 0.68421053 0.73684211 0.78947368 0.84210526 0.89473684\n",
      " 0.94736842 1.        ]\n"
     ]
    }
   ],
   "source": [
    "num_line = np.linspace(0,1,20)\n",
    "print(num_line)"
   ]
  },
  {
   "cell_type": "markdown",
   "id": "d2cdb553-c181-406f-b70b-8da056be591a",
   "metadata": {},
   "source": [
    "### 22. Use of sort() function ?"
   ]
  },
  {
   "cell_type": "code",
   "execution_count": 58,
   "id": "c724b97f-93e3-45a0-92ea-1f9d5d723880",
   "metadata": {},
   "outputs": [
    {
     "name": "stdout",
     "output_type": "stream",
     "text": [
      "sorting of numpy array : \n",
      " [[2 5 6]\n",
      " [1 8 9]]\n"
     ]
    }
   ],
   "source": [
    "num_arr = np.array([[5,6,2],[9,8,1]])\n",
    "print(\"sorting of numpy array : \\n\",np.sort(num_arr))"
   ]
  },
  {
   "cell_type": "markdown",
   "id": "ffbc9099-c76f-49e8-bfbe-0badef554f48",
   "metadata": {},
   "source": [
    "### 23. How to get the positions where elements of two arrays match?"
   ]
  },
  {
   "cell_type": "code",
   "execution_count": 61,
   "id": "e734a73b-c3e5-4379-bb8f-73a83ed31a8b",
   "metadata": {},
   "outputs": [
    {
     "data": {
      "text/plain": [
       "(array([1, 3, 5, 7], dtype=int64),)"
      ]
     },
     "execution_count": 61,
     "metadata": {},
     "output_type": "execute_result"
    }
   ],
   "source": [
    "a = np.array([1,2,3,2,3,4,3,4,5,6])\n",
    "b = np.array([7,2,10,2,7,4,9,4,9,8])\n",
    "\n",
    "np.where(a == b)"
   ]
  },
  {
   "cell_type": "markdown",
   "id": "0bd445ba-ec7b-4aaf-b157-99c54d569bd3",
   "metadata": {},
   "source": [
    "### 24. Create a Numpy array filled with all zeros"
   ]
  },
  {
   "cell_type": "code",
   "execution_count": 64,
   "id": "82bf9c38-3329-4d2b-a001-cfb22d6b4f8b",
   "metadata": {},
   "outputs": [
    {
     "name": "stdout",
     "output_type": "stream",
     "text": [
      "Matrix a : \n",
      " [0 0 0]\n",
      "\n",
      "Matrix b : \n",
      " [[0 0 0]\n",
      " [0 0 0]\n",
      " [0 0 0]]\n"
     ]
    }
   ],
   "source": [
    "a = np.zeros(3, dtype = int) \n",
    "print(\"Matrix a : \\n\", a) \n",
    "  \n",
    "b = np.zeros([3, 3], dtype = int) \n",
    "print(\"\\nMatrix b : \\n\", b) "
   ]
  },
  {
   "cell_type": "markdown",
   "id": "b3b53a19-b0a2-4928-987d-86dab650233b",
   "metadata": {},
   "source": [
    "### 25. Check whether a Numpy array contains a specified row"
   ]
  },
  {
   "cell_type": "code",
   "execution_count": 67,
   "id": "09541f31-6448-4753-b80a-449514616770",
   "metadata": {},
   "outputs": [
    {
     "data": {
      "text/plain": [
       "array([[ 1,  2,  3,  4,  5],\n",
       "       [ 6,  7,  8,  9, 10],\n",
       "       [11, 12, 13, 14, 15],\n",
       "       [16, 17, 18, 19, 20]])"
      ]
     },
     "execution_count": 67,
     "metadata": {},
     "output_type": "execute_result"
    }
   ],
   "source": [
    "arr = np.array([[1, 2, 3, 4, 5],\n",
    "                [6, 7, 8, 9, 10],\n",
    "                [11, 12, 13, 14, 15],\n",
    "                [16, 17, 18, 19, 20]])\n",
    "\n",
    "# view the array\n",
    "arr"
   ]
  },
  {
   "cell_type": "code",
   "execution_count": 69,
   "id": "cdd0f571-6ffa-4d08-b5cb-29c39ee86d1f",
   "metadata": {},
   "outputs": [
    {
     "data": {
      "text/plain": [
       "[[1, 2, 3, 4, 5], [6, 7, 8, 9, 10], [11, 12, 13, 14, 15], [16, 17, 18, 19, 20]]"
      ]
     },
     "execution_count": 69,
     "metadata": {},
     "output_type": "execute_result"
    }
   ],
   "source": [
    "## tolist(): used to convert the data elements of an array into a list. \n",
    "arr.tolist()"
   ]
  },
  {
   "cell_type": "code",
   "execution_count": 71,
   "id": "860ee03c-a040-49d2-8908-c829e785d248",
   "metadata": {},
   "outputs": [
    {
     "name": "stdout",
     "output_type": "stream",
     "text": [
      "True\n",
      "False\n",
      "False\n",
      "True\n"
     ]
    }
   ],
   "source": [
    "## checking whether the given list is present in the above array.\n",
    "print([1, 2, 3, 4, 5] in arr.tolist())\n",
    "print([16, 17, 20, 19, 18] in arr.tolist())\n",
    "print([3, 2, 5, -4, 5] in arr.tolist())\n",
    "print([11, 12, 13, 14, 15] in arr.tolist())"
   ]
  },
  {
   "cell_type": "markdown",
   "id": "6aa28955-b707-485e-ad94-f9aa7a6d85ce",
   "metadata": {},
   "source": [
    "#### 26 Find the number of occurrences of a sequence in a numpy array"
   ]
  },
  {
   "cell_type": "code",
   "execution_count": 74,
   "id": "3b73a827-1970-4945-b2e2-25dc4b4967fa",
   "metadata": {},
   "outputs": [
    {
     "name": "stdout",
     "output_type": "stream",
     "text": [
      "0\n"
     ]
    }
   ],
   "source": [
    "arr = np.array([[2,8,9,4],\n",
    "                    [9,4,9,4],\n",
    "                    [4,5,9,7],\n",
    "                    [2,9,4,3]])\n",
    "output = repr(arr).count(\"9,4\")\n",
    "print(output)"
   ]
  },
  {
   "cell_type": "markdown",
   "id": "9cede687-d213-4938-9d94-afb36955c433",
   "metadata": {},
   "source": [
    "### 27 Write a Numpy program to test elementwise for NaN of a given array"
   ]
  },
  {
   "cell_type": "code",
   "execution_count": 79,
   "id": "accc686b-8a85-41b9-9d0f-8fe10d0aa04c",
   "metadata": {},
   "outputs": [
    {
     "name": "stdout",
     "output_type": "stream",
     "text": [
      "Original array\n",
      "[ 1.  0. nan inf]\n",
      "Test element-wise for NaN:\n",
      "[False False  True False]\n"
     ]
    }
   ],
   "source": [
    "a = np.array([1, 0, np.nan, np.inf])\n",
    "print(\"Original array\")\n",
    "print(a)\n",
    "print(\"Test element-wise for NaN:\")\n",
    "print(np.isnan(a))"
   ]
  },
  {
   "cell_type": "markdown",
   "id": "bf8022fa-39bf-498a-9975-2572d5790280",
   "metadata": {},
   "source": [
    "### 28 Write a numpy program to test whether none of the elements of a given array is zero "
   ]
  },
  {
   "cell_type": "code",
   "execution_count": 82,
   "id": "4390bfb1-3a19-4ddf-a54a-c0eb3dc08b97",
   "metadata": {},
   "outputs": [
    {
     "name": "stdout",
     "output_type": "stream",
     "text": [
      "Original array:\n",
      "[1 2 3 4]\n",
      "Test if npne of the elements of the said array is zero:\n",
      "True\n",
      "[0 1 2 3]\n",
      "Test if none of the elements of the said array is zero:\n",
      "False\n"
     ]
    }
   ],
   "source": [
    "x = np.array([1,2,3,4])\n",
    "print(\"Original array:\")\n",
    "print(x)\n",
    "print(\"Test if npne of the elements of the said array is zero:\")\n",
    "print(np.all(x))\n",
    "x = np.array([0,1,2,3])\n",
    "print(x)\n",
    "print(\"Test if none of the elements of the said array is zero:\")\n",
    "print(np.all(x))"
   ]
  },
  {
   "cell_type": "markdown",
   "id": "ef6d5393-a539-4edb-888f-9cd10b6f98e4",
   "metadata": {},
   "source": [
    "### 29. Write a Numpy program to convert a list of numerical value into a one-dimension Numpy array."
   ]
  },
  {
   "cell_type": "code",
   "execution_count": 85,
   "id": "c57f2562-df70-4581-b0ec-67c4fce528bd",
   "metadata": {},
   "outputs": [
    {
     "name": "stdout",
     "output_type": "stream",
     "text": [
      "original list: [12.23, 13.32, 100, 36.32]\n",
      "One-dimensional NumPy array:  [ 12.23  13.32 100.    36.32]\n"
     ]
    }
   ],
   "source": [
    "l = [12.23, 13.32,100,36.32]\n",
    "print(\"original list:\",l)\n",
    "a = np.array(l)\n",
    "print(\"One-dimensional NumPy array: \",a)"
   ]
  },
  {
   "cell_type": "markdown",
   "id": "ac7840ab-d361-48c4-80b4-280939014ab9",
   "metadata": {},
   "source": [
    "### 30. Write a Numpy to crt a null vector of size 10 and update sixth value "
   ]
  },
  {
   "cell_type": "code",
   "execution_count": 88,
   "id": "3b6b7c66-c1a5-4a33-bb6d-fb9eb10b89e8",
   "metadata": {},
   "outputs": [
    {
     "name": "stdout",
     "output_type": "stream",
     "text": [
      "[0. 0. 0. 0. 0. 0. 0. 0. 0. 0.]\n",
      "\n",
      " Update sixth value to 11\n",
      "[ 0.  0.  0.  0.  0.  0. 11.  0.  0.  0.]\n"
     ]
    }
   ],
   "source": [
    "x = np.zeros(10)\n",
    "print(x)\n",
    "print(\"\\n Update sixth value to 11\")\n",
    "x[6] =11\n",
    "print(x)"
   ]
  },
  {
   "cell_type": "markdown",
   "id": "04fa2729-f606-4b40-8c62-441e212b36e9",
   "metadata": {},
   "source": [
    "### 31. Write a NumPy program to crt a 5x5 array with random values and find the minimum and maximum values."
   ]
  },
  {
   "cell_type": "code",
   "execution_count": 91,
   "id": "85a02587-0b8a-4e10-ab1c-2050ce5fd392",
   "metadata": {},
   "outputs": [
    {
     "name": "stdout",
     "output_type": "stream",
     "text": [
      "Original Array:\n",
      "[[0.18249173 0.17545176 0.53155137 0.53182759 0.63440096]\n",
      " [0.84943179 0.72445532 0.61102351 0.72244338 0.32295891]\n",
      " [0.36178866 0.22826323 0.29371405 0.63097612 0.09210494]\n",
      " [0.43370117 0.43086276 0.4936851  0.42583029 0.31226122]\n",
      " [0.42635131 0.89338916 0.94416002 0.50183668 0.62395295]]\n",
      "\n",
      "\n",
      "minimum and maximum values: \n",
      "0.09210493994507518 0.9441600182038796\n"
     ]
    }
   ],
   "source": [
    "x = np.random.random((5,5))\n",
    "print(\"Original Array:\")\n",
    "print(x)\n",
    "xmin, xmax = x.min(), x.max()\n",
    "print(\"\\n\")\n",
    "print(\"minimum and maximum values: \")\n",
    "print(xmin,xmax)"
   ]
  },
  {
   "cell_type": "markdown",
   "id": "3afe15e8-d2d5-43bc-b2a7-faa2380a4a17",
   "metadata": {},
   "source": [
    "### 32. Write a Numpy program to compute the multiplication of two given matrices Samples matrix: [[1,0],[0,1]],[[1,2],[3,4]]"
   ]
  },
  {
   "cell_type": "code",
   "execution_count": 94,
   "id": "490917e8-43e3-4e26-9c66-ec87fec6e349",
   "metadata": {},
   "outputs": [
    {
     "name": "stdout",
     "output_type": "stream",
     "text": [
      "original matrix:\n",
      "[[1, 0], [0, 1]]\n",
      "\n",
      "\n",
      "Result of the said matrix multiplication:\n",
      "[[1 2]\n",
      " [3 4]]\n"
     ]
    }
   ],
   "source": [
    "p  = [[1,0],[0,1]]\n",
    "q = [[1,2],[3,4]]\n",
    "print(\"original matrix:\")\n",
    "print(p)\n",
    "result1 = np.dot(p,q)\n",
    "print(\"\\n\")\n",
    "print(\"Result of the said matrix multiplication:\")\n",
    "print(result1)"
   ]
  },
  {
   "cell_type": "markdown",
   "id": "6dd1cb81-23c0-4cb9-9274-3e7ec9dcdb25",
   "metadata": {},
   "source": [
    "### 33. Create a two-dimensional array woth the flattened input as a diagonal "
   ]
  },
  {
   "cell_type": "code",
   "execution_count": 99,
   "id": "0757884d-c7b3-49f6-bd15-5f8cda3fe6e1",
   "metadata": {},
   "outputs": [
    {
     "data": {
      "text/plain": [
       "array([[1, 0, 0, 0],\n",
       "       [0, 2, 0, 0],\n",
       "       [0, 0, 3, 0],\n",
       "       [0, 0, 0, 4]])"
      ]
     },
     "execution_count": 99,
     "metadata": {},
     "output_type": "execute_result"
    }
   ],
   "source": [
    "ar1 = np.diagflat([[1,2], [3,4]])\n",
    "ar1"
   ]
  },
  {
   "cell_type": "markdown",
   "id": "ca392a7c-e75b-44a3-82c1-7f84fb1fc796",
   "metadata": {},
   "source": [
    "### 34. Write a Numpy program to compute the sum of the diagonal element of a given array"
   ]
  },
  {
   "cell_type": "code",
   "execution_count": 102,
   "id": "9371915b-4a8b-4a62-bc7d-5bcc3b89474b",
   "metadata": {},
   "outputs": [
    {
     "name": "stdout",
     "output_type": "stream",
     "text": [
      "Original matrix:\n",
      "[[0 1]\n",
      " [2 3]\n",
      " [4 5]]\n",
      "\n",
      "\n",
      "Condition number of the said matrix:\n",
      "3\n"
     ]
    }
   ],
   "source": [
    "m = np.arange(6).reshape(3,2)\n",
    "print(\"Original matrix:\")\n",
    "print(m)\n",
    "\n",
    "# trace() will return the sum of diagonal elements \n",
    "result = np.trace(m)\n",
    "print(\"\\n\")\n",
    "print(\"Condition number of the said matrix:\")\n",
    "print(result)"
   ]
  },
  {
   "cell_type": "code",
   "execution_count": 104,
   "id": "982d9660-78d0-496b-886c-e22478991a71",
   "metadata": {},
   "outputs": [
    {
     "name": "stdout",
     "output_type": "stream",
     "text": [
      "[[[[ 0  1  2]\n",
      "   [ 3  4  5]]\n",
      "\n",
      "  [[ 6  7  8]\n",
      "   [ 9 10 11]]]\n",
      "\n",
      "\n",
      " [[[12 13 14]\n",
      "   [15 16 17]]\n",
      "\n",
      "  [[18 19 20]\n",
      "   [21 22 23]]]]\n",
      "\n",
      "\n"
     ]
    },
    {
     "data": {
      "text/plain": [
       "array([[18, 20, 22],\n",
       "       [24, 26, 28]])"
      ]
     },
     "execution_count": 104,
     "metadata": {},
     "output_type": "execute_result"
    }
   ],
   "source": [
    "a =  np.arange(24).reshape((2,2,2,3))\n",
    "print(a)\n",
    "print(\"\\n\")\n",
    "np.trace(a)"
   ]
  },
  {
   "cell_type": "code",
   "execution_count": 106,
   "id": "a7eef75f-9cca-45b5-a03d-6366297b453c",
   "metadata": {},
   "outputs": [
    {
     "name": "stdout",
     "output_type": "stream",
     "text": [
      "[[[0 1]\n",
      "  [2 3]]\n",
      "\n",
      " [[4 5]\n",
      "  [6 7]]]\n",
      "\n",
      "\n"
     ]
    },
    {
     "data": {
      "text/plain": [
       "array([6, 8])"
      ]
     },
     "execution_count": 106,
     "metadata": {},
     "output_type": "execute_result"
    }
   ],
   "source": [
    "a = np.arange(8).reshape((2,2,2))\n",
    "print(a)\n",
    "print(\"\\n\")\n",
    "np.trace(a)"
   ]
  },
  {
   "cell_type": "markdown",
   "id": "0674fcc4-7cc7-47ba-830e-e6d8f10c13ac",
   "metadata": {},
   "source": [
    "### 35. Use of around() function : returns a decimal values rounded to a desired position decimal"
   ]
  },
  {
   "cell_type": "code",
   "execution_count": 109,
   "id": "ddad4063-f808-41f0-920d-38d327221e4c",
   "metadata": {},
   "outputs": [
    {
     "name": "stdout",
     "output_type": "stream",
     "text": [
      "printing the original array values: [ 12.202   90.2312 123.02    23.202 ]\n",
      "\n",
      "\n",
      "Array values rounded off to 2 decimal position [ 12.2   90.23 123.02  23.2 ]\n",
      "Array values rounded off to -1 decimal position [ 10.  90. 120.  20.]\n"
     ]
    }
   ],
   "source": [
    "arr = np.array([12.202, 90.23120, 123.020, 23.202]) \n",
    "print(\"printing the original array values:\",end = \" \")  \n",
    "print(arr)  \n",
    "print(\"\\n\")\n",
    "print(\"Array values rounded off to 2 decimal position\",np.around(arr, 2))  \n",
    "print(\"Array values rounded off to -1 decimal position\",np.around(arr, -1))  "
   ]
  }
 ],
 "metadata": {
  "kernelspec": {
   "display_name": "Python 3 (ipykernel)",
   "language": "python",
   "name": "python3"
  },
  "language_info": {
   "codemirror_mode": {
    "name": "ipython",
    "version": 3
   },
   "file_extension": ".py",
   "mimetype": "text/x-python",
   "name": "python",
   "nbconvert_exporter": "python",
   "pygments_lexer": "ipython3",
   "version": "3.12.7"
  }
 },
 "nbformat": 4,
 "nbformat_minor": 5
}
