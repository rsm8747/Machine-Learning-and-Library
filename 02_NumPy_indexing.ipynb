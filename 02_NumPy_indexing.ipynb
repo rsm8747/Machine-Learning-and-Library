{
 "cells": [
  {
   "cell_type": "markdown",
   "id": "2a6a202a-e864-4545-9fea-f888a546ab63",
   "metadata": {},
   "source": [
    "### NumPy Indexing and Selection\n"
   ]
  },
  {
   "cell_type": "code",
   "execution_count": 2,
   "id": "82174c70-65bf-4b4d-8fa2-f7bf75114105",
   "metadata": {},
   "outputs": [],
   "source": [
    "import numpy as np"
   ]
  },
  {
   "cell_type": "code",
   "execution_count": 4,
   "id": "30c81f98-0f99-458e-880e-7a709ce74daf",
   "metadata": {},
   "outputs": [],
   "source": [
    "arr = np.arange(0,21)"
   ]
  },
  {
   "cell_type": "code",
   "execution_count": 6,
   "id": "41c8925f-feba-4452-a722-65ea0cc802d2",
   "metadata": {},
   "outputs": [
    {
     "data": {
      "text/plain": [
       "array([ 0,  1,  2,  3,  4,  5,  6,  7,  8,  9, 10, 11, 12, 13, 14, 15, 16,\n",
       "       17, 18, 19, 20])"
      ]
     },
     "execution_count": 6,
     "metadata": {},
     "output_type": "execute_result"
    }
   ],
   "source": [
    "arr"
   ]
  },
  {
   "cell_type": "markdown",
   "id": "a9b6cb79-cfc5-42f3-b5f5-4228d52489b7",
   "metadata": {},
   "source": [
    "### Bracket Indexing and Selection\n",
    "#### The simplest way to pick one or some elements of an array looks very similar to python"
   ]
  },
  {
   "cell_type": "code",
   "execution_count": 9,
   "id": "d303b1a2-5a2e-40f3-b34a-7c29ded5ff7f",
   "metadata": {},
   "outputs": [
    {
     "data": {
      "text/plain": [
       "array([10, 15, 20, 25, 30, 35, 40, 45, 50, 55, 60, 65, 70, 75, 80, 85, 90,\n",
       "       95])"
      ]
     },
     "execution_count": 9,
     "metadata": {},
     "output_type": "execute_result"
    }
   ],
   "source": [
    "arr = np.arange(10,100,5)\n",
    "arr"
   ]
  },
  {
   "cell_type": "code",
   "execution_count": 11,
   "id": "474fa9fa-e6a7-4098-aead-73bba9d33985",
   "metadata": {},
   "outputs": [
    {
     "data": {
      "text/plain": [
       "18"
      ]
     },
     "execution_count": 11,
     "metadata": {},
     "output_type": "execute_result"
    }
   ],
   "source": [
    "len(arr)"
   ]
  },
  {
   "cell_type": "code",
   "execution_count": 13,
   "id": "e2563797-a13e-45c8-9925-66c2e9fc29eb",
   "metadata": {},
   "outputs": [
    {
     "data": {
      "text/plain": [
       "95"
      ]
     },
     "execution_count": 13,
     "metadata": {},
     "output_type": "execute_result"
    }
   ],
   "source": [
    "arr[-1]"
   ]
  },
  {
   "cell_type": "code",
   "execution_count": 15,
   "id": "fab622dd-7b0c-4ae2-8b29-b0bee0a11fcb",
   "metadata": {},
   "outputs": [
    {
     "data": {
      "text/plain": [
       "55"
      ]
     },
     "execution_count": 15,
     "metadata": {},
     "output_type": "execute_result"
    }
   ],
   "source": [
    "# get a value at an index\n",
    "arr[9]"
   ]
  },
  {
   "cell_type": "code",
   "execution_count": 17,
   "id": "c1b80d64-7fae-4046-ab12-7fb8358fb5b4",
   "metadata": {},
   "outputs": [
    {
     "data": {
      "text/plain": [
       "array([15, 25, 35, 45, 55])"
      ]
     },
     "execution_count": 17,
     "metadata": {},
     "output_type": "execute_result"
    }
   ],
   "source": [
    "# get value in  a range\n",
    "arr[1:11:2]"
   ]
  },
  {
   "cell_type": "markdown",
   "id": "3aba370f-9ecc-46b1-8373-c983ea99289f",
   "metadata": {},
   "source": [
    "### Filtering"
   ]
  },
  {
   "cell_type": "code",
   "execution_count": 20,
   "id": "bc3ce1d3-2758-484c-a6fe-2e1822169072",
   "metadata": {},
   "outputs": [],
   "source": [
    "import numpy as np"
   ]
  },
  {
   "cell_type": "code",
   "execution_count": 22,
   "id": "b127813a-8870-4920-87dd-b9c2808abf5f",
   "metadata": {},
   "outputs": [
    {
     "data": {
      "text/plain": [
       "array([   1,    2, 1010,    4,  108,   18,   71,  610])"
      ]
     },
     "execution_count": 22,
     "metadata": {},
     "output_type": "execute_result"
    }
   ],
   "source": [
    "# filtering condition\n",
    "arr = np.array([1,2,1010,4,108,18,71,610])\n",
    "arr"
   ]
  },
  {
   "cell_type": "code",
   "execution_count": 24,
   "id": "a229a41f-0433-42f8-81d7-db193212d48c",
   "metadata": {},
   "outputs": [
    {
     "data": {
      "text/plain": [
       "array([ True,  True, False,  True, False,  True,  True, False])"
      ]
     },
     "execution_count": 24,
     "metadata": {},
     "output_type": "execute_result"
    }
   ],
   "source": [
    "arr<100"
   ]
  },
  {
   "cell_type": "code",
   "execution_count": 26,
   "id": "bdfecaf7-61ff-42a8-98cc-e1873f9b90b3",
   "metadata": {},
   "outputs": [
    {
     "data": {
      "text/plain": [
       "18"
      ]
     },
     "execution_count": 26,
     "metadata": {},
     "output_type": "execute_result"
    }
   ],
   "source": [
    "arr[5]"
   ]
  },
  {
   "cell_type": "code",
   "execution_count": 28,
   "id": "1e1b8e74-a96e-4f5b-9a3b-329294545af5",
   "metadata": {},
   "outputs": [
    {
     "data": {
      "text/plain": [
       "(array([2, 4, 7], dtype=int64),)"
      ]
     },
     "execution_count": 28,
     "metadata": {},
     "output_type": "execute_result"
    }
   ],
   "source": [
    "np.where(arr>100) # where function outputs index location of values \n",
    "# meeting the condition"
   ]
  },
  {
   "cell_type": "code",
   "execution_count": 30,
   "id": "8e2007cb-ac53-493e-86c3-2c84c41a1296",
   "metadata": {},
   "outputs": [
    {
     "data": {
      "text/plain": [
       "(array([0, 1, 3, 5, 6], dtype=int64),)"
      ]
     },
     "execution_count": 30,
     "metadata": {},
     "output_type": "execute_result"
    }
   ],
   "source": [
    "np.where(arr<100)"
   ]
  },
  {
   "cell_type": "code",
   "execution_count": 32,
   "id": "5561cb1c-1984-429f-b60e-8a8bde1e9ebc",
   "metadata": {},
   "outputs": [
    {
     "data": {
      "text/plain": [
       "(array([], dtype=int64),)"
      ]
     },
     "execution_count": 32,
     "metadata": {},
     "output_type": "execute_result"
    }
   ],
   "source": [
    "np.where(arr==100)"
   ]
  },
  {
   "cell_type": "markdown",
   "id": "09053d97-1c85-4fa4-9e9f-a9c8bc779d1a",
   "metadata": {},
   "source": [
    "### Indexing a 2D array (matrices)\n",
    "#### The general format is arr_2d[row][col] or arr_2d[row,col]. It is recommended to use the comma notation for clarity."
   ]
  },
  {
   "cell_type": "code",
   "execution_count": 35,
   "id": "7dde91b4-cf29-4a17-b8c4-17c52e348c41",
   "metadata": {},
   "outputs": [],
   "source": [
    "import numpy as np"
   ]
  },
  {
   "cell_type": "code",
   "execution_count": 37,
   "id": "a6bb5e76-566e-44e1-b85b-0ccd2a7302c4",
   "metadata": {},
   "outputs": [
    {
     "data": {
      "text/plain": [
       "array([[  1,   2,   3],\n",
       "       [ 12,  15,  18],\n",
       "       [ 64,  96, 128]])"
      ]
     },
     "execution_count": 37,
     "metadata": {},
     "output_type": "execute_result"
    }
   ],
   "source": [
    "arr_2d = np.array(([1,2,3],[12,15,18],[64,96,128]))\n",
    "arr_2d"
   ]
  },
  {
   "cell_type": "code",
   "execution_count": 39,
   "id": "aa5bd5f2-990a-4634-9603-3a9272d4c883",
   "metadata": {},
   "outputs": [
    {
     "data": {
      "text/plain": [
       "array([[12, 15],\n",
       "       [64, 96]])"
      ]
     },
     "execution_count": 39,
     "metadata": {},
     "output_type": "execute_result"
    }
   ],
   "source": [
    "arr_2d[1:,:2]"
   ]
  },
  {
   "cell_type": "code",
   "execution_count": 41,
   "id": "4cfcaf1e-5b14-446f-80de-06d357983985",
   "metadata": {},
   "outputs": [
    {
     "data": {
      "text/plain": [
       "array([64, 96])"
      ]
     },
     "execution_count": 41,
     "metadata": {},
     "output_type": "execute_result"
    }
   ],
   "source": [
    "arr_2d[2,:2]"
   ]
  },
  {
   "cell_type": "code",
   "execution_count": 43,
   "id": "86d14e68-d483-43fd-b40e-42989d7215cb",
   "metadata": {},
   "outputs": [
    {
     "data": {
      "text/plain": [
       "array([  3,  18, 128])"
      ]
     },
     "execution_count": 43,
     "metadata": {},
     "output_type": "execute_result"
    }
   ],
   "source": [
    "arr_2d[:,2]"
   ]
  },
  {
   "cell_type": "code",
   "execution_count": 47,
   "id": "4234b224-bbca-4d70-af7e-6d654b1e9e68",
   "metadata": {},
   "outputs": [
    {
     "data": {
      "text/plain": [
       "array([[1, 2, 3]])"
      ]
     },
     "execution_count": 47,
     "metadata": {},
     "output_type": "execute_result"
    }
   ],
   "source": [
    "arr_2d[:1,0:3]"
   ]
  },
  {
   "cell_type": "code",
   "execution_count": 49,
   "id": "40bb0251-9c65-4a0b-a1fa-bbd667748e92",
   "metadata": {},
   "outputs": [
    {
     "data": {
      "text/plain": [
       "(3, 3)"
      ]
     },
     "execution_count": 49,
     "metadata": {},
     "output_type": "execute_result"
    }
   ],
   "source": [
    "arr_2d.shape"
   ]
  },
  {
   "cell_type": "code",
   "execution_count": 51,
   "id": "585ee168-dc4d-4771-ae03-c645793a8304",
   "metadata": {},
   "outputs": [
    {
     "data": {
      "text/plain": [
       "array([12, 15, 18])"
      ]
     },
     "execution_count": 51,
     "metadata": {},
     "output_type": "execute_result"
    }
   ],
   "source": [
    "arr_2d[1]"
   ]
  },
  {
   "cell_type": "code",
   "execution_count": 53,
   "id": "97f7c42e-1de9-45d3-ad1f-61e57f0c3b22",
   "metadata": {},
   "outputs": [
    {
     "data": {
      "text/plain": [
       "array([  3,  18, 128])"
      ]
     },
     "execution_count": 53,
     "metadata": {},
     "output_type": "execute_result"
    }
   ],
   "source": [
    "arr_2d[:,2]# Indexing 3rd column"
   ]
  },
  {
   "cell_type": "code",
   "execution_count": 55,
   "id": "068d4f28-5aa5-4bd3-9127-0013783642d2",
   "metadata": {},
   "outputs": [
    {
     "data": {
      "text/plain": [
       "array([[ 15,  18],\n",
       "       [ 96, 128]])"
      ]
     },
     "execution_count": 55,
     "metadata": {},
     "output_type": "execute_result"
    }
   ],
   "source": [
    "arr_2d[1:,1:]"
   ]
  },
  {
   "cell_type": "code",
   "execution_count": 57,
   "id": "f703c9cc-906d-4e58-b031-3084a39aa126",
   "metadata": {},
   "outputs": [
    {
     "data": {
      "text/plain": [
       "array([[ 1,  2,  3],\n",
       "       [12, 15, 18]])"
      ]
     },
     "execution_count": 57,
     "metadata": {},
     "output_type": "execute_result"
    }
   ],
   "source": [
    "arr_2d[0:2]"
   ]
  },
  {
   "cell_type": "code",
   "execution_count": 59,
   "id": "3816e15c-da43-4b81-9001-29d515ac01e5",
   "metadata": {},
   "outputs": [
    {
     "data": {
      "text/plain": [
       "array([  3,  18, 128])"
      ]
     },
     "execution_count": 59,
     "metadata": {},
     "output_type": "execute_result"
    }
   ],
   "source": [
    "# indexing column\n",
    "arr_2d[:,2]"
   ]
  },
  {
   "cell_type": "code",
   "execution_count": 61,
   "id": "40ef17ad-b904-4d2a-b7a9-b166c513af52",
   "metadata": {},
   "outputs": [
    {
     "data": {
      "text/plain": [
       "array([[ 2,  3],\n",
       "       [15, 18]])"
      ]
     },
     "execution_count": 61,
     "metadata": {},
     "output_type": "execute_result"
    }
   ],
   "source": [
    "# 2D array slicing \n",
    "# shape (2,2) from top right corner\n",
    "arr_2d[:2,1:]"
   ]
  },
  {
   "cell_type": "markdown",
   "id": "a2877edf-09da-41af-9cba-3b6a5788063c",
   "metadata": {},
   "source": [
    "### Fancy Indexing \n",
    "#### Fancy indexeing allows you to select entire rows or columns out of order, to show this, uickly build out a numpy array:"
   ]
  },
  {
   "cell_type": "code",
   "execution_count": 64,
   "id": "1220ceb2-9b7a-4da4-8acd-b1331af98767",
   "metadata": {},
   "outputs": [
    {
     "data": {
      "text/plain": [
       "(10, 10)"
      ]
     },
     "execution_count": 64,
     "metadata": {},
     "output_type": "execute_result"
    }
   ],
   "source": [
    "arr1 = np.ones((10,10))\n",
    "arr1.shape"
   ]
  },
  {
   "cell_type": "code",
   "execution_count": 66,
   "id": "ff5a1ab6-444d-46df-af44-b39dc8bf4bb2",
   "metadata": {},
   "outputs": [],
   "source": [
    "# set up matrix \n",
    "arr2d = np.zeros(arr1.shape) # taking shape from an existing array"
   ]
  },
  {
   "cell_type": "code",
   "execution_count": 68,
   "id": "61181577-ba6b-4155-9129-0dac7b871891",
   "metadata": {},
   "outputs": [
    {
     "data": {
      "text/plain": [
       "array([[0., 0., 0., 0., 0., 0., 0., 0., 0., 0.],\n",
       "       [0., 0., 0., 0., 0., 0., 0., 0., 0., 0.],\n",
       "       [0., 0., 0., 0., 0., 0., 0., 0., 0., 0.],\n",
       "       [0., 0., 0., 0., 0., 0., 0., 0., 0., 0.],\n",
       "       [0., 0., 0., 0., 0., 0., 0., 0., 0., 0.],\n",
       "       [0., 0., 0., 0., 0., 0., 0., 0., 0., 0.],\n",
       "       [0., 0., 0., 0., 0., 0., 0., 0., 0., 0.],\n",
       "       [0., 0., 0., 0., 0., 0., 0., 0., 0., 0.],\n",
       "       [0., 0., 0., 0., 0., 0., 0., 0., 0., 0.],\n",
       "       [0., 0., 0., 0., 0., 0., 0., 0., 0., 0.]])"
      ]
     },
     "execution_count": 68,
     "metadata": {},
     "output_type": "execute_result"
    }
   ],
   "source": [
    "arr2d"
   ]
  },
  {
   "cell_type": "code",
   "execution_count": 70,
   "id": "81b97354-7860-4f04-9e6d-801d2bcacf7f",
   "metadata": {},
   "outputs": [
    {
     "data": {
      "text/plain": [
       "(10, 10)"
      ]
     },
     "execution_count": 70,
     "metadata": {},
     "output_type": "execute_result"
    }
   ],
   "source": [
    "arr2d.shape"
   ]
  },
  {
   "cell_type": "code",
   "execution_count": 72,
   "id": "721f05f5-5dd0-4f6f-aae4-376309c1ea00",
   "metadata": {},
   "outputs": [
    {
     "data": {
      "text/plain": [
       "array([[0., 0., 0., 0., 0., 0., 0., 0., 0., 0.],\n",
       "       [0., 0., 0., 0., 0., 0., 0., 0., 0., 0.]])"
      ]
     },
     "execution_count": 72,
     "metadata": {},
     "output_type": "execute_result"
    }
   ],
   "source": [
    "arr2d[[3,7]]"
   ]
  },
  {
   "cell_type": "code",
   "execution_count": 74,
   "id": "1db0dbdc-5d0e-4d7e-93b3-a4b97f41ce4f",
   "metadata": {},
   "outputs": [],
   "source": [
    "no_of_wors=arr2d.shape[0]"
   ]
  },
  {
   "cell_type": "code",
   "execution_count": 76,
   "id": "8b01a9c4-37c8-46fa-a4f3-13b0d48d59a5",
   "metadata": {},
   "outputs": [
    {
     "name": "stdout",
     "output_type": "stream",
     "text": [
      "11\n",
      "12\n",
      "13\n",
      "14\n",
      "15\n",
      "16\n",
      "17\n",
      "18\n",
      "19\n",
      "20\n"
     ]
    }
   ],
   "source": [
    "for j in range(11,21):\n",
    "    print(j)"
   ]
  },
  {
   "cell_type": "code",
   "execution_count": 80,
   "id": "28589e78-9c86-43cd-a58d-1352e9810efe",
   "metadata": {},
   "outputs": [
    {
     "data": {
      "text/plain": [
       "array([[  1.,   2.,   3.,   4.,   5.,   6.,   7.,   8.,   9.,  10.],\n",
       "       [ 11.,  12.,  13.,  14.,  15.,  16.,  17.,  18.,  19.,  20.],\n",
       "       [ 21.,  22.,  23.,  24.,  25.,  26.,  27.,  28.,  29.,  30.],\n",
       "       [ 31.,  32.,  33.,  34.,  35.,  36.,  37.,  38.,  39.,  40.],\n",
       "       [ 41.,  42.,  43.,  44.,  45.,  46.,  47.,  48.,  49.,  50.],\n",
       "       [ 51.,  52.,  53.,  54.,  55.,  56.,  57.,  58.,  59.,  60.],\n",
       "       [ 61.,  62.,  63.,  64.,  65.,  66.,  67.,  68.,  69.,  70.],\n",
       "       [ 71.,  72.,  73.,  74.,  75.,  76.,  77.,  78.,  79.,  80.],\n",
       "       [ 81.,  82.,  83.,  84.,  85.,  86.,  87.,  88.,  89.,  90.],\n",
       "       [ 91.,  92.,  93.,  94.,  95.,  96.,  97.,  98.,  99., 100.]])"
      ]
     },
     "execution_count": 80,
     "metadata": {},
     "output_type": "execute_result"
    }
   ],
   "source": [
    "# set up array\n",
    "arr2d = np.ones((10,10))\n",
    "no_of_rows=arr2d.shape[0]\n",
    "\n",
    "\n",
    "j=0\n",
    "for i in range(no_of_rows):\n",
    "    arr2d[i] = np.arange(j+1,j+11)\n",
    "    j+=10\n",
    "arr2d"
   ]
  },
  {
   "cell_type": "code",
   "execution_count": 82,
   "id": "f53c5c6f-95fe-4c99-8876-155589ab87ba",
   "metadata": {},
   "outputs": [
    {
     "data": {
      "text/plain": [
       "array([[  1,   2,   3,   4,   5,   6,   7,   8,   9,  10],\n",
       "       [ 11,  12,  13,  14,  15,  16,  17,  18,  19,  20],\n",
       "       [ 21,  22,  23,  24,  25,  26,  27,  28,  29,  30],\n",
       "       [ 31,  32,  33,  34,  35,  36,  37,  38,  39,  40],\n",
       "       [ 41,  42,  43,  44,  45,  46,  47,  48,  49,  50],\n",
       "       [ 51,  52,  53,  54,  55,  56,  57,  58,  59,  60],\n",
       "       [ 61,  62,  63,  64,  65,  66,  67,  68,  69,  70],\n",
       "       [ 71,  72,  73,  74,  75,  76,  77,  78,  79,  80],\n",
       "       [ 81,  82,  83,  84,  85,  86,  87,  88,  89,  90],\n",
       "       [ 91,  92,  93,  94,  95,  96,  97,  98,  99, 100]])"
      ]
     },
     "execution_count": 82,
     "metadata": {},
     "output_type": "execute_result"
    }
   ],
   "source": [
    "import numpy as np\n",
    "a = np.arange(1,101).reshape(10,10)\n",
    "a"
   ]
  },
  {
   "cell_type": "code",
   "execution_count": 86,
   "id": "9c83b36d-f18f-4e85-aca2-29ade8bf1e7a",
   "metadata": {},
   "outputs": [
    {
     "data": {
      "text/plain": [
       "array([[ 31.,  32.,  33.,  34.,  35.,  36.,  37.,  38.,  39.,  40.],\n",
       "       [ 91.,  92.,  93.,  94.,  95.,  96.,  97.,  98.,  99., 100.],\n",
       "       [ 71.,  72.,  73.,  74.,  75.,  76.,  77.,  78.,  79.,  80.],\n",
       "       [ 51.,  52.,  53.,  54.,  55.,  56.,  57.,  58.,  59.,  60.]])"
      ]
     },
     "execution_count": 86,
     "metadata": {},
     "output_type": "execute_result"
    }
   ],
   "source": [
    "arr2d[[3,9,7,5]]"
   ]
  },
  {
   "cell_type": "markdown",
   "id": "63c4fbf4-d436-4986-930e-395961cefae1",
   "metadata": {},
   "source": [
    "## Fancy indexing allows the following\n"
   ]
  },
  {
   "cell_type": "code",
   "execution_count": 89,
   "id": "b5fbca34-fecd-4ebd-a508-3258f9f64f87",
   "metadata": {},
   "outputs": [
    {
     "data": {
      "text/plain": [
       "array([[61., 62., 63., 64., 65., 66., 67., 68., 69., 70.],\n",
       "       [31., 32., 33., 34., 35., 36., 37., 38., 39., 40.],\n",
       "       [81., 82., 83., 84., 85., 86., 87., 88., 89., 90.]])"
      ]
     },
     "execution_count": 89,
     "metadata": {},
     "output_type": "execute_result"
    }
   ],
   "source": [
    "arr2d[[6,3,8]]"
   ]
  },
  {
   "cell_type": "code",
   "execution_count": 91,
   "id": "29670b9a-4c00-453b-9979-8856e0810c2e",
   "metadata": {},
   "outputs": [
    {
     "data": {
      "text/plain": [
       "array([[ 3.,  5.,  7.,  9.],\n",
       "       [13., 15., 17., 19.],\n",
       "       [23., 25., 27., 29.],\n",
       "       [33., 35., 37., 39.],\n",
       "       [43., 45., 47., 49.],\n",
       "       [53., 55., 57., 59.],\n",
       "       [63., 65., 67., 69.],\n",
       "       [73., 75., 77., 79.],\n",
       "       [83., 85., 87., 89.],\n",
       "       [93., 95., 97., 99.]])"
      ]
     },
     "execution_count": 91,
     "metadata": {},
     "output_type": "execute_result"
    }
   ],
   "source": [
    "arr2d[:,[2,4,6,8]]"
   ]
  },
  {
   "cell_type": "code",
   "execution_count": 93,
   "id": "d56e6efc-7646-46ac-a832-330b89a46659",
   "metadata": {},
   "outputs": [
    {
     "data": {
      "text/plain": [
       "array([[61., 62., 63., 64., 65., 66., 67., 68., 69., 70.],\n",
       "       [41., 42., 43., 44., 45., 46., 47., 48., 49., 50.],\n",
       "       [21., 22., 23., 24., 25., 26., 27., 28., 29., 30.],\n",
       "       [71., 72., 73., 74., 75., 76., 77., 78., 79., 80.]])"
      ]
     },
     "execution_count": 93,
     "metadata": {},
     "output_type": "execute_result"
    }
   ],
   "source": [
    "# allows in any order \n",
    "arr2d[[6,4,2,7]]"
   ]
  },
  {
   "cell_type": "markdown",
   "id": "6c233e33-b96f-493c-9e8d-d510743fc052",
   "metadata": {},
   "source": [
    "## Selection\n",
    "### Let's briefly go over how to use brackets for selection based off of comparison operators"
   ]
  },
  {
   "cell_type": "code",
   "execution_count": 96,
   "id": "0699a566-fde7-4ad3-84e6-90cb28fdfc91",
   "metadata": {},
   "outputs": [
    {
     "data": {
      "text/plain": [
       "array([ 1,  2,  3,  4,  5,  6,  7,  8,  9, 10])"
      ]
     },
     "execution_count": 96,
     "metadata": {},
     "output_type": "execute_result"
    }
   ],
   "source": [
    "arr = np.arange(1,11)\n",
    "arr"
   ]
  },
  {
   "cell_type": "code",
   "execution_count": 98,
   "id": "aa199619-6d06-47c1-a167-14fcf1b51c82",
   "metadata": {},
   "outputs": [
    {
     "data": {
      "text/plain": [
       "array([False, False, False, False,  True,  True,  True,  True,  True,\n",
       "        True])"
      ]
     },
     "execution_count": 98,
     "metadata": {},
     "output_type": "execute_result"
    }
   ],
   "source": [
    "arr > 4"
   ]
  },
  {
   "cell_type": "code",
   "execution_count": 100,
   "id": "8edfe66c-77cd-4dcb-8431-af18cd47c60f",
   "metadata": {},
   "outputs": [
    {
     "data": {
      "text/plain": [
       "array([[  1.,   2.,   3.,   4.,   5.,   6.,   7.,   8.,   9.,  10.],\n",
       "       [ 11.,  12.,  13.,  14.,  15.,  16.,  17.,  18.,  19.,  20.],\n",
       "       [ 21.,  22.,  23.,  24.,  25.,  26.,  27.,  28.,  29.,  30.],\n",
       "       [ 31.,  32.,  33.,  34.,  35.,  36.,  37.,  38.,  39.,  40.],\n",
       "       [ 41.,  42.,  43.,  44.,  45.,  46.,  47.,  48.,  49.,  50.],\n",
       "       [ 51.,  52.,  53.,  54.,  55.,  56.,  57.,  58.,  59.,  60.],\n",
       "       [ 61.,  62.,  63.,  64.,  65.,  66.,  67.,  68.,  69.,  70.],\n",
       "       [ 71.,  72.,  73.,  74.,  75.,  76.,  77.,  78.,  79.,  80.],\n",
       "       [ 81.,  82.,  83.,  84.,  85.,  86.,  87.,  88.,  89.,  90.],\n",
       "       [ 91.,  92.,  93.,  94.,  95.,  96.,  97.,  98.,  99., 100.]])"
      ]
     },
     "execution_count": 100,
     "metadata": {},
     "output_type": "execute_result"
    }
   ],
   "source": [
    "arr2d"
   ]
  },
  {
   "cell_type": "code",
   "execution_count": 102,
   "id": "e06ffe5d-f385-4f77-a02c-794ba459a972",
   "metadata": {},
   "outputs": [
    {
     "data": {
      "text/plain": [
       "array([ True,  True,  True,  True, False, False, False, False, False,\n",
       "       False])"
      ]
     },
     "execution_count": 102,
     "metadata": {},
     "output_type": "execute_result"
    }
   ],
   "source": [
    "arr2d[:,0]<40"
   ]
  },
  {
   "cell_type": "code",
   "execution_count": 104,
   "id": "a911bd6f-67fc-4f5b-8784-4c1b907e834c",
   "metadata": {},
   "outputs": [
    {
     "data": {
      "text/plain": [
       "(array([4, 4, 4, 4, 4, 4, 4, 4, 4, 4, 5, 5, 5, 5, 5, 5, 5, 5, 5, 5, 6, 6,\n",
       "        6, 6, 6, 6, 6, 6, 6, 6, 7, 7, 7, 7, 7, 7, 7, 7, 7, 7, 8, 8, 8, 8,\n",
       "        8, 8, 8, 8, 8, 8, 9, 9, 9, 9, 9, 9, 9, 9, 9, 9], dtype=int64),\n",
       " array([0, 1, 2, 3, 4, 5, 6, 7, 8, 9, 0, 1, 2, 3, 4, 5, 6, 7, 8, 9, 0, 1,\n",
       "        2, 3, 4, 5, 6, 7, 8, 9, 0, 1, 2, 3, 4, 5, 6, 7, 8, 9, 0, 1, 2, 3,\n",
       "        4, 5, 6, 7, 8, 9, 0, 1, 2, 3, 4, 5, 6, 7, 8, 9], dtype=int64))"
      ]
     },
     "execution_count": 104,
     "metadata": {},
     "output_type": "execute_result"
    }
   ],
   "source": [
    "np.where(arr2d[:,]>40)"
   ]
  },
  {
   "cell_type": "code",
   "execution_count": 106,
   "id": "1dcf6a5e-6997-46c5-8647-3f24c48bd23c",
   "metadata": {},
   "outputs": [
    {
     "data": {
      "text/plain": [
       "array([[ 41.,  42.,  43.,  44.,  45.,  46.,  47.,  48.,  49.,  50.],\n",
       "       [ 51.,  52.,  53.,  54.,  55.,  56.,  57.,  58.,  59.,  60.],\n",
       "       [ 61.,  62.,  63.,  64.,  65.,  66.,  67.,  68.,  69.,  70.],\n",
       "       [ 71.,  72.,  73.,  74.,  75.,  76.,  77.,  78.,  79.,  80.],\n",
       "       [ 81.,  82.,  83.,  84.,  85.,  86.,  87.,  88.,  89.,  90.],\n",
       "       [ 91.,  92.,  93.,  94.,  95.,  96.,  97.,  98.,  99., 100.]])"
      ]
     },
     "execution_count": 106,
     "metadata": {},
     "output_type": "execute_result"
    }
   ],
   "source": [
    "arr2d[[4,5,6,7,8,9]]"
   ]
  },
  {
   "cell_type": "code",
   "execution_count": 108,
   "id": "a9d8f146-59c6-43be-bdcf-562393177f7a",
   "metadata": {},
   "outputs": [
    {
     "data": {
      "text/plain": [
       "array([[ 41.,  42.,  43.,  44.,  45.,  46.,  47.,  48.,  49.,  50.],\n",
       "       [ 51.,  52.,  53.,  54.,  55.,  56.,  57.,  58.,  59.,  60.],\n",
       "       [ 61.,  62.,  63.,  64.,  65.,  66.,  67.,  68.,  69.,  70.],\n",
       "       [ 71.,  72.,  73.,  74.,  75.,  76.,  77.,  78.,  79.,  80.],\n",
       "       [ 81.,  82.,  83.,  84.,  85.,  86.,  87.,  88.,  89.,  90.],\n",
       "       [ 91.,  92.,  93.,  94.,  95.,  96.,  97.,  98.,  99., 100.]])"
      ]
     },
     "execution_count": 108,
     "metadata": {},
     "output_type": "execute_result"
    }
   ],
   "source": [
    "arr2d[np.where(arr2d[:,0]>40)]"
   ]
  }
 ],
 "metadata": {
  "kernelspec": {
   "display_name": "Python 3 (ipykernel)",
   "language": "python",
   "name": "python3"
  },
  "language_info": {
   "codemirror_mode": {
    "name": "ipython",
    "version": 3
   },
   "file_extension": ".py",
   "mimetype": "text/x-python",
   "name": "python",
   "nbconvert_exporter": "python",
   "pygments_lexer": "ipython3",
   "version": "3.12.7"
  }
 },
 "nbformat": 4,
 "nbformat_minor": 5
}
