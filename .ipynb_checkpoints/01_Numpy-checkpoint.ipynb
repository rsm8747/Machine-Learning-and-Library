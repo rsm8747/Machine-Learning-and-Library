{
 "cells": [
  {
   "cell_type": "markdown",
   "id": "bf156d10-a62d-4713-966f-3a1948dd37f2",
   "metadata": {},
   "source": [
    "### Numpy \n",
    "##### Numpy is  a linear Algebra Library in Python and it is the holy grail and the main build block of Data Science using Python. Almost all the libraries in the PyData Ecosysem Numpy as one of their main building blocks.\n",
    "###### It is bound to several C libraries which makes NumPy one of the fastest libraries in python. We will learn the basics of NumPy, to get started we need to install it!"
   ]
  },
  {
   "cell_type": "code",
   "execution_count": 8,
   "id": "9bb0a65c-000d-49ba-9ea6-1d8b80c1b84d",
   "metadata": {},
   "outputs": [
    {
     "ename": "SyntaxError",
     "evalue": "invalid syntax (1189899550.py, line 2)",
     "output_type": "error",
     "traceback": [
      "\u001b[1;36m  Cell \u001b[1;32mIn[8], line 2\u001b[1;36m\u001b[0m\n\u001b[1;33m    conda install numpy\u001b[0m\n\u001b[1;37m          ^\u001b[0m\n\u001b[1;31mSyntaxError\u001b[0m\u001b[1;31m:\u001b[0m invalid syntax\n"
     ]
    }
   ],
   "source": [
    "!pip install numpy\n",
    "conda install numpy"
   ]
  },
  {
   "cell_type": "code",
   "execution_count": 11,
   "id": "42f33b37-4e21-4154-9b4e-a87c65db0106",
   "metadata": {},
   "outputs": [],
   "source": [
    "import numpy as np"
   ]
  },
  {
   "cell_type": "markdown",
   "id": "87d2fc4f-d367-472a-99ef-f6df1100ed97",
   "metadata": {},
   "source": [
    "#### NumPy Arrays \n",
    "##### Numpy arrays essentially of two types: vectors and matrices. Vectors are stricky 1-D and matrices are 2-D (Note: A matrix can still have only one row or one column).\n"
   ]
  },
  {
   "cell_type": "markdown",
   "id": "6c2360af-fdfb-4dd5-a3ce-5f7e106bbca1",
   "metadata": {},
   "source": [
    "#### Creating NumPy Arrays\n",
    "#### From a Python List"
   ]
  },
  {
   "cell_type": "code",
   "execution_count": 15,
   "id": "b3f2d4c1-bb64-4a35-8804-8967d6f292f2",
   "metadata": {},
   "outputs": [],
   "source": [
    "import numpy as np"
   ]
  },
  {
   "cell_type": "code",
   "execution_count": 17,
   "id": "f6ed4364-1974-4edb-8fb8-640d725f9344",
   "metadata": {},
   "outputs": [
    {
     "data": {
      "text/plain": [
       "array([], dtype=float64)"
      ]
     },
     "execution_count": 17,
     "metadata": {},
     "output_type": "execute_result"
    }
   ],
   "source": [
    "arr1 = np.array([]) # create an empty array\n",
    "arr1"
   ]
  },
  {
   "cell_type": "code",
   "execution_count": 19,
   "id": "1d3145b1-8726-4e6b-9b41-97a13a95c692",
   "metadata": {},
   "outputs": [
    {
     "name": "stdout",
     "output_type": "stream",
     "text": [
      "<class 'numpy.ndarray'>\n"
     ]
    }
   ],
   "source": [
    "print(type(arr1))"
   ]
  },
  {
   "cell_type": "code",
   "execution_count": 21,
   "id": "a885f091-7570-4818-be2d-6d593f3ddcfa",
   "metadata": {},
   "outputs": [
    {
     "name": "stdout",
     "output_type": "stream",
     "text": [
      "[1, 2, 3, 4, 5]\n",
      "<class 'list'>\n"
     ]
    }
   ],
   "source": [
    "my_list = [1,2,3,4,5]\n",
    "print(my_list)\n",
    "print(type(my_list))"
   ]
  },
  {
   "cell_type": "code",
   "execution_count": 23,
   "id": "fc5230c7-392b-4dba-acc0-fac5b2a475d9",
   "metadata": {},
   "outputs": [],
   "source": [
    "a = np.array(my_list)"
   ]
  },
  {
   "cell_type": "code",
   "execution_count": 25,
   "id": "07a00d58-261f-4b12-90ac-3cf50d85384a",
   "metadata": {},
   "outputs": [
    {
     "data": {
      "text/plain": [
       "array([1, 2, 3, 4, 5])"
      ]
     },
     "execution_count": 25,
     "metadata": {},
     "output_type": "execute_result"
    }
   ],
   "source": [
    "a"
   ]
  },
  {
   "cell_type": "code",
   "execution_count": 27,
   "id": "07e05789-b6e2-428e-ad7d-8dca89589609",
   "metadata": {},
   "outputs": [
    {
     "data": {
      "text/plain": [
       "numpy.ndarray"
      ]
     },
     "execution_count": 27,
     "metadata": {},
     "output_type": "execute_result"
    }
   ],
   "source": [
    "type(a) # nd array is number dimension array"
   ]
  },
  {
   "cell_type": "code",
   "execution_count": 29,
   "id": "373b2151-a9df-4124-bef9-15ced248614d",
   "metadata": {},
   "outputs": [
    {
     "data": {
      "text/plain": [
       "1"
      ]
     },
     "execution_count": 29,
     "metadata": {},
     "output_type": "execute_result"
    }
   ],
   "source": [
    "a.ndim # number of dimensions in the array"
   ]
  },
  {
   "cell_type": "code",
   "execution_count": 31,
   "id": "7869246e-7ecf-45a3-999a-a2fa96dcb47d",
   "metadata": {},
   "outputs": [
    {
     "data": {
      "text/plain": [
       "5"
      ]
     },
     "execution_count": 31,
     "metadata": {},
     "output_type": "execute_result"
    }
   ],
   "source": [
    "a.size # size of an array is the no. of items"
   ]
  },
  {
   "cell_type": "code",
   "execution_count": 33,
   "id": "ef355560-33f1-427a-97d7-0993471b986b",
   "metadata": {},
   "outputs": [
    {
     "data": {
      "text/plain": [
       "(5,)"
      ]
     },
     "execution_count": 33,
     "metadata": {},
     "output_type": "execute_result"
    }
   ],
   "source": [
    "a.shape # shape of array"
   ]
  },
  {
   "cell_type": "markdown",
   "id": "87822159-cf58-4fe7-897a-ca0e29e57812",
   "metadata": {},
   "source": [
    "### Array can be of n dimensions. "
   ]
  },
  {
   "cell_type": "code",
   "execution_count": 36,
   "id": "37e3f526-d0ed-4d93-a0ad-ae37bd8fbbd9",
   "metadata": {},
   "outputs": [
    {
     "data": {
      "text/plain": [
       "[[1, 2, 3, 4], [5, 6, 7, 8], [9, 10, 11, 12]]"
      ]
     },
     "execution_count": 36,
     "metadata": {},
     "output_type": "execute_result"
    }
   ],
   "source": [
    "my_matrix = [[1,2,3,4],[5,6,7,8],[9,10,11,12]] # list of lists\n",
    "my_matrix"
   ]
  },
  {
   "cell_type": "code",
   "execution_count": 38,
   "id": "9599037c-eb7d-4307-88f9-0103cd66092d",
   "metadata": {},
   "outputs": [
    {
     "data": {
      "text/plain": [
       "array([[ 1,  2,  3,  4],\n",
       "       [ 5,  6,  7,  8],\n",
       "       [ 9, 10, 11, 12]])"
      ]
     },
     "execution_count": 38,
     "metadata": {},
     "output_type": "execute_result"
    }
   ],
   "source": [
    "import numpy as np\n",
    "b = np.array(my_matrix) # generates a 2-d array\n",
    "b"
   ]
  },
  {
   "cell_type": "code",
   "execution_count": 40,
   "id": "0e3ee11d-a0ad-4900-8752-57e25c54ef88",
   "metadata": {},
   "outputs": [
    {
     "name": "stdout",
     "output_type": "stream",
     "text": [
      "The dimension of array 2\n"
     ]
    }
   ],
   "source": [
    "# array summary\n",
    "print('The dimension of array', b.ndim) # dimensions of given array"
   ]
  },
  {
   "cell_type": "code",
   "execution_count": 42,
   "id": "1252eea2-f339-49eb-96ba-1a982e88f2f1",
   "metadata": {},
   "outputs": [
    {
     "name": "stdout",
     "output_type": "stream",
     "text": [
      "The size of array: 12\n"
     ]
    }
   ],
   "source": [
    "print('The size of array:',b.size) # number of elements in array"
   ]
  },
  {
   "cell_type": "code",
   "execution_count": 44,
   "id": "df3709e5-ed9f-462b-a33b-8ba9bfa150df",
   "metadata": {},
   "outputs": [
    {
     "name": "stdout",
     "output_type": "stream",
     "text": [
      "the datatype of elements: int32\n"
     ]
    }
   ],
   "source": [
    "print('the datatype of elements:', b.dtype) # datatype of elements in array"
   ]
  },
  {
   "cell_type": "code",
   "execution_count": 46,
   "id": "11113d40-7c61-4ca2-b0b2-8c01cf612de7",
   "metadata": {},
   "outputs": [
    {
     "name": "stdout",
     "output_type": "stream",
     "text": [
      "The type of structure: <class 'numpy.ndarray'>\n"
     ]
    }
   ],
   "source": [
    "print('The type of structure:',type(b))"
   ]
  },
  {
   "cell_type": "code",
   "execution_count": 48,
   "id": "78742e12-997e-482d-868f-9d52458faf24",
   "metadata": {},
   "outputs": [
    {
     "name": "stdout",
     "output_type": "stream",
     "text": [
      "The shape: (3, 4)\n"
     ]
    }
   ],
   "source": [
    "print('The shape:',b.shape)"
   ]
  },
  {
   "cell_type": "code",
   "execution_count": 50,
   "id": "4828d31c-ae44-4723-b1e8-78519593184b",
   "metadata": {},
   "outputs": [
    {
     "data": {
      "text/plain": [
       "(3, 4)"
      ]
     },
     "execution_count": 50,
     "metadata": {},
     "output_type": "execute_result"
    }
   ],
   "source": [
    "b.shape"
   ]
  },
  {
   "cell_type": "code",
   "execution_count": 52,
   "id": "494ef73b-9082-4826-b772-67e471524c00",
   "metadata": {},
   "outputs": [],
   "source": [
    "import numpy as np"
   ]
  },
  {
   "cell_type": "code",
   "execution_count": 56,
   "id": "34584c5f-da6d-4836-972e-1ed85eab030d",
   "metadata": {},
   "outputs": [
    {
     "data": {
      "text/plain": [
       "array([[[ 1,  2,  3],\n",
       "        [ 4,  5,  6]],\n",
       "\n",
       "       [[ 7,  8,  9],\n",
       "        [10, 11, 12]]])"
      ]
     },
     "execution_count": 56,
     "metadata": {},
     "output_type": "execute_result"
    }
   ],
   "source": [
    "arr1 = np.array([[[1,2,3],[4,5,6]],[[7,8,9],[10,11,12]]])\n",
    "arr1"
   ]
  },
  {
   "cell_type": "code",
   "execution_count": 58,
   "id": "a5ce8023-5dfe-4f7b-8c30-86c41410b399",
   "metadata": {},
   "outputs": [
    {
     "data": {
      "text/plain": [
       "(2, 2, 3)"
      ]
     },
     "execution_count": 58,
     "metadata": {},
     "output_type": "execute_result"
    }
   ],
   "source": [
    "arr1.shape"
   ]
  },
  {
   "cell_type": "code",
   "execution_count": 60,
   "id": "f264545f-c878-4a91-9406-88d8cc276277",
   "metadata": {},
   "outputs": [
    {
     "data": {
      "text/plain": [
       "3"
      ]
     },
     "execution_count": 60,
     "metadata": {},
     "output_type": "execute_result"
    }
   ],
   "source": [
    "arr1.ndim"
   ]
  },
  {
   "cell_type": "code",
   "execution_count": 62,
   "id": "e8276cf6-d0d7-40ce-94f2-96f67661a761",
   "metadata": {},
   "outputs": [
    {
     "data": {
      "text/plain": [
       "12"
      ]
     },
     "execution_count": 62,
     "metadata": {},
     "output_type": "execute_result"
    }
   ],
   "source": [
    "arr1.size"
   ]
  },
  {
   "cell_type": "markdown",
   "id": "eb4a6052-32e7-420b-908e-ef626cd83416",
   "metadata": {},
   "source": [
    "### Built-in Method\n",
    "#### There are lots of built-in ways to generate Arrays\n",
    "### Reshape function"
   ]
  },
  {
   "cell_type": "code",
   "execution_count": 65,
   "id": "abaae9e3-72f3-4421-a59e-dbf6928a1702",
   "metadata": {},
   "outputs": [
    {
     "data": {
      "text/plain": [
       "array([[[ 1,  2,  3],\n",
       "        [ 4,  5,  6]],\n",
       "\n",
       "       [[ 7,  8,  9],\n",
       "        [10, 11, 12]]])"
      ]
     },
     "execution_count": 65,
     "metadata": {},
     "output_type": "execute_result"
    }
   ],
   "source": [
    "arr1"
   ]
  },
  {
   "cell_type": "code",
   "execution_count": 67,
   "id": "9f755aeb-4dc3-4504-abf0-a5c691a9065e",
   "metadata": {},
   "outputs": [
    {
     "data": {
      "text/plain": [
       "(2, 2, 3)"
      ]
     },
     "execution_count": 67,
     "metadata": {},
     "output_type": "execute_result"
    }
   ],
   "source": [
    "arr1.shape"
   ]
  },
  {
   "cell_type": "code",
   "execution_count": 69,
   "id": "5a1be3fd-be0e-4f8f-9012-c7f751d149d1",
   "metadata": {},
   "outputs": [],
   "source": [
    "arr2=arr1.reshape((1,3,4)) # reshape function takes the new shape as its arguments"
   ]
  },
  {
   "cell_type": "code",
   "execution_count": 71,
   "id": "a4d7334b-02ab-4c79-ad6c-4d5c1e1461cf",
   "metadata": {},
   "outputs": [
    {
     "data": {
      "text/plain": [
       "(1, 3, 4)"
      ]
     },
     "execution_count": 71,
     "metadata": {},
     "output_type": "execute_result"
    }
   ],
   "source": [
    "arr2.shape"
   ]
  },
  {
   "cell_type": "code",
   "execution_count": 73,
   "id": "e14c3daa-e83a-4b52-a7e0-65d8b95e1111",
   "metadata": {},
   "outputs": [
    {
     "data": {
      "text/plain": [
       "array([[[ 1,  2,  3,  4],\n",
       "        [ 5,  6,  7,  8],\n",
       "        [ 9, 10, 11, 12]]])"
      ]
     },
     "execution_count": 73,
     "metadata": {},
     "output_type": "execute_result"
    }
   ],
   "source": [
    "arr2"
   ]
  },
  {
   "cell_type": "code",
   "execution_count": 75,
   "id": "45fb08a0-fb7e-4fa6-8e9d-f941d10bf978",
   "metadata": {},
   "outputs": [],
   "source": [
    "arr2=arr1.reshape((3,4))"
   ]
  },
  {
   "cell_type": "code",
   "execution_count": 77,
   "id": "4dea57a2-d9fc-4f1b-9511-e8d0e431bf45",
   "metadata": {},
   "outputs": [
    {
     "data": {
      "text/plain": [
       "2"
      ]
     },
     "execution_count": 77,
     "metadata": {},
     "output_type": "execute_result"
    }
   ],
   "source": [
    "arr2.ndim"
   ]
  },
  {
   "cell_type": "markdown",
   "id": "b26f21a7-ecf5-4b09-9b08-793c7ea45a0b",
   "metadata": {},
   "source": [
    "### Arange\n",
    "#### Return evenly spaced values withing a given interval"
   ]
  },
  {
   "cell_type": "code",
   "execution_count": 80,
   "id": "dc974bb2-47fb-4feb-a3da-369fcd398df6",
   "metadata": {},
   "outputs": [],
   "source": [
    "# np.arange(start,end-1,step)"
   ]
  },
  {
   "cell_type": "code",
   "execution_count": 82,
   "id": "aa27f456-e02f-489e-a948-9f35317aafa9",
   "metadata": {},
   "outputs": [
    {
     "data": {
      "text/plain": [
       "array([ 0,  1,  2,  3,  4,  5,  6,  7,  8,  9, 10, 11, 12, 13, 14])"
      ]
     },
     "execution_count": 82,
     "metadata": {},
     "output_type": "execute_result"
    }
   ],
   "source": [
    "np.arange(15) # end; default start at 0"
   ]
  },
  {
   "cell_type": "code",
   "execution_count": 90,
   "id": "1c6e4239-e518-4557-9d28-64062b323034",
   "metadata": {},
   "outputs": [
    {
     "data": {
      "text/plain": [
       "array([100,  99,  98,  97,  96,  95,  94,  93,  92,  91,  90,  89,  88,\n",
       "        87,  86,  85,  84,  83,  82,  81,  80,  79,  78,  77,  76,  75,\n",
       "        74,  73,  72,  71,  70,  69,  68,  67,  66,  65,  64,  63,  62,\n",
       "        61,  60,  59,  58,  57,  56,  55,  54,  53,  52,  51,  50,  49,\n",
       "        48,  47,  46,  45,  44,  43,  42,  41,  40,  39,  38,  37,  36,\n",
       "        35,  34,  33,  32,  31,  30,  29,  28,  27,  26,  25,  24,  23,\n",
       "        22,  21,  20,  19,  18,  17,  16,  15,  14,  13,  12,  11,  10,\n",
       "         9,   8,   7,   6,   5,   4,   3,   2,   1])"
      ]
     },
     "execution_count": 90,
     "metadata": {},
     "output_type": "execute_result"
    }
   ],
   "source": [
    "np.arange(100,0,-1) # start, end and step"
   ]
  },
  {
   "cell_type": "code",
   "execution_count": 94,
   "id": "7c1b8986-05d7-4e89-b5ca-beaf23931971",
   "metadata": {},
   "outputs": [
    {
     "data": {
      "text/plain": [
       "array([ 0,  2,  4,  6,  8, 10])"
      ]
     },
     "execution_count": 94,
     "metadata": {},
     "output_type": "execute_result"
    }
   ],
   "source": [
    "np.arange(0,11,2)"
   ]
  },
  {
   "cell_type": "markdown",
   "id": "019aa441-3914-42bd-b4f1-3b89de7f7538",
   "metadata": {},
   "source": [
    "### Zeros and Ones \n",
    "#### Generates arrays of zeros or ones"
   ]
  },
  {
   "cell_type": "code",
   "execution_count": 97,
   "id": "2321c0e6-f47f-4cae-8e2f-6a57878240c4",
   "metadata": {},
   "outputs": [],
   "source": [
    "import numpy as np"
   ]
  },
  {
   "cell_type": "code",
   "execution_count": 99,
   "id": "f0b7c0cd-8a07-49a1-beb1-78f05e0f1e7b",
   "metadata": {},
   "outputs": [
    {
     "data": {
      "text/plain": [
       "array([0., 0., 0.])"
      ]
     },
     "execution_count": 99,
     "metadata": {},
     "output_type": "execute_result"
    }
   ],
   "source": [
    "np.zeros(3) # generates array in 1 dimension with all elements 0"
   ]
  },
  {
   "cell_type": "code",
   "execution_count": 101,
   "id": "afe5f4bd-162f-41e8-a624-ff5bffd4cda1",
   "metadata": {},
   "outputs": [
    {
     "data": {
      "text/plain": [
       "array([[0., 0., 0., 0., 0.],\n",
       "       [0., 0., 0., 0., 0.],\n",
       "       [0., 0., 0., 0., 0.],\n",
       "       [0., 0., 0., 0., 0.],\n",
       "       [0., 0., 0., 0., 0.]])"
      ]
     },
     "execution_count": 101,
     "metadata": {},
     "output_type": "execute_result"
    }
   ],
   "source": [
    "np.zeros((5,5)) # Generates array in 2 dimensions with all elements 0"
   ]
  },
  {
   "cell_type": "code",
   "execution_count": 103,
   "id": "c25ecfa9-34ec-4b77-8188-b1fba653985a",
   "metadata": {},
   "outputs": [
    {
     "data": {
      "text/plain": [
       "array([1., 1., 1.])"
      ]
     },
     "execution_count": 103,
     "metadata": {},
     "output_type": "execute_result"
    }
   ],
   "source": [
    "np.ones(3) # Generates array of 1 dimension where all elements are 1"
   ]
  },
  {
   "cell_type": "code",
   "execution_count": 105,
   "id": "2a8f6c24-36f3-44c4-bac6-f1211c6eaac7",
   "metadata": {},
   "outputs": [
    {
     "data": {
      "text/plain": [
       "array([[1., 1., 1., 1., 1.],\n",
       "       [1., 1., 1., 1., 1.],\n",
       "       [1., 1., 1., 1., 1.],\n",
       "       [1., 1., 1., 1., 1.]])"
      ]
     },
     "execution_count": 105,
     "metadata": {},
     "output_type": "execute_result"
    }
   ],
   "source": [
    "np.ones((4,5)) # Generates array of dimensions where all elements are 1"
   ]
  },
  {
   "cell_type": "code",
   "execution_count": 107,
   "id": "4c8f8a62-5589-4b8a-8878-b4a677086bb6",
   "metadata": {},
   "outputs": [
    {
     "data": {
      "text/plain": [
       "array([[[1., 1., 1.],\n",
       "        [1., 1., 1.],\n",
       "        [1., 1., 1.],\n",
       "        [1., 1., 1.],\n",
       "        [1., 1., 1.]],\n",
       "\n",
       "       [[1., 1., 1.],\n",
       "        [1., 1., 1.],\n",
       "        [1., 1., 1.],\n",
       "        [1., 1., 1.],\n",
       "        [1., 1., 1.]],\n",
       "\n",
       "       [[1., 1., 1.],\n",
       "        [1., 1., 1.],\n",
       "        [1., 1., 1.],\n",
       "        [1., 1., 1.],\n",
       "        [1., 1., 1.]],\n",
       "\n",
       "       [[1., 1., 1.],\n",
       "        [1., 1., 1.],\n",
       "        [1., 1., 1.],\n",
       "        [1., 1., 1.],\n",
       "        [1., 1., 1.]]])"
      ]
     },
     "execution_count": 107,
     "metadata": {},
     "output_type": "execute_result"
    }
   ],
   "source": [
    "np.ones((4,5,3))"
   ]
  },
  {
   "cell_type": "markdown",
   "id": "bc8accc1-3d15-46a9-a5b6-c0cd66116888",
   "metadata": {},
   "source": [
    "## Linspace \n",
    "### Return evenly spaced numbers over a specifies interval."
   ]
  },
  {
   "cell_type": "code",
   "execution_count": 112,
   "id": "2fec1322-3949-4ea4-84ad-4cbc752d64cd",
   "metadata": {},
   "outputs": [],
   "source": [
    "import numpy as np"
   ]
  },
  {
   "cell_type": "code",
   "execution_count": 114,
   "id": "7453636d-d441-4726-b39b-61701a04de9d",
   "metadata": {},
   "outputs": [
    {
     "data": {
      "text/plain": [
       "array([ 1.        ,  1.28571429,  1.57142857,  1.85714286,  2.14285714,\n",
       "        2.42857143,  2.71428571,  3.        ,  3.28571429,  3.57142857,\n",
       "        3.85714286,  4.14285714,  4.42857143,  4.71428571,  5.        ,\n",
       "        5.28571429,  5.57142857,  5.85714286,  6.14285714,  6.42857143,\n",
       "        6.71428571,  7.        ,  7.28571429,  7.57142857,  7.85714286,\n",
       "        8.14285714,  8.42857143,  8.71428571,  9.        ,  9.28571429,\n",
       "        9.57142857,  9.85714286, 10.14285714, 10.42857143, 10.71428571,\n",
       "       11.        , 11.28571429, 11.57142857, 11.85714286, 12.14285714,\n",
       "       12.42857143, 12.71428571, 13.        , 13.28571429, 13.57142857,\n",
       "       13.85714286, 14.14285714, 14.42857143, 14.71428571, 15.        ])"
      ]
     },
     "execution_count": 114,
     "metadata": {},
     "output_type": "execute_result"
    }
   ],
   "source": [
    "np.linspace(1,15) # default 50 observations\n",
    "# both the start adn end are included in the array"
   ]
  },
  {
   "cell_type": "code",
   "execution_count": 116,
   "id": "0c854eec-be88-448f-a187-3d2705f20b12",
   "metadata": {},
   "outputs": [
    {
     "data": {
      "text/plain": [
       "array([ 5.        ,  5.2020202 ,  5.4040404 ,  5.60606061,  5.80808081,\n",
       "        6.01010101,  6.21212121,  6.41414141,  6.61616162,  6.81818182,\n",
       "        7.02020202,  7.22222222,  7.42424242,  7.62626263,  7.82828283,\n",
       "        8.03030303,  8.23232323,  8.43434343,  8.63636364,  8.83838384,\n",
       "        9.04040404,  9.24242424,  9.44444444,  9.64646465,  9.84848485,\n",
       "       10.05050505, 10.25252525, 10.45454545, 10.65656566, 10.85858586,\n",
       "       11.06060606, 11.26262626, 11.46464646, 11.66666667, 11.86868687,\n",
       "       12.07070707, 12.27272727, 12.47474747, 12.67676768, 12.87878788,\n",
       "       13.08080808, 13.28282828, 13.48484848, 13.68686869, 13.88888889,\n",
       "       14.09090909, 14.29292929, 14.49494949, 14.6969697 , 14.8989899 ,\n",
       "       15.1010101 , 15.3030303 , 15.50505051, 15.70707071, 15.90909091,\n",
       "       16.11111111, 16.31313131, 16.51515152, 16.71717172, 16.91919192,\n",
       "       17.12121212, 17.32323232, 17.52525253, 17.72727273, 17.92929293,\n",
       "       18.13131313, 18.33333333, 18.53535354, 18.73737374, 18.93939394,\n",
       "       19.14141414, 19.34343434, 19.54545455, 19.74747475, 19.94949495,\n",
       "       20.15151515, 20.35353535, 20.55555556, 20.75757576, 20.95959596,\n",
       "       21.16161616, 21.36363636, 21.56565657, 21.76767677, 21.96969697,\n",
       "       22.17171717, 22.37373737, 22.57575758, 22.77777778, 22.97979798,\n",
       "       23.18181818, 23.38383838, 23.58585859, 23.78787879, 23.98989899,\n",
       "       24.19191919, 24.39393939, 24.5959596 , 24.7979798 , 25.        ])"
      ]
     },
     "execution_count": 116,
     "metadata": {},
     "output_type": "execute_result"
    }
   ],
   "source": [
    "np.linspace(5,25,100) # equally spaced 1 values"
   ]
  },
  {
   "cell_type": "code",
   "execution_count": 118,
   "id": "df320c98-ee70-4f5b-b9e3-9d7b2e427179",
   "metadata": {},
   "outputs": [
    {
     "data": {
      "text/plain": [
       "(array([ 0.        ,  0.51020408,  1.02040816,  1.53061224,  2.04081633,\n",
       "         2.55102041,  3.06122449,  3.57142857,  4.08163265,  4.59183673,\n",
       "         5.10204082,  5.6122449 ,  6.12244898,  6.63265306,  7.14285714,\n",
       "         7.65306122,  8.16326531,  8.67346939,  9.18367347,  9.69387755,\n",
       "        10.20408163, 10.71428571, 11.2244898 , 11.73469388, 12.24489796,\n",
       "        12.75510204, 13.26530612, 13.7755102 , 14.28571429, 14.79591837,\n",
       "        15.30612245, 15.81632653, 16.32653061, 16.83673469, 17.34693878,\n",
       "        17.85714286, 18.36734694, 18.87755102, 19.3877551 , 19.89795918,\n",
       "        20.40816327, 20.91836735, 21.42857143, 21.93877551, 22.44897959,\n",
       "        22.95918367, 23.46938776, 23.97959184, 24.48979592, 25.        ]),\n",
       " 0.5102040816326531)"
      ]
     },
     "execution_count": 118,
     "metadata": {},
     "output_type": "execute_result"
    }
   ],
   "source": [
    "np.linspace(0,25, retstep=True) # Start # end (HEre end is included) and default elements are "
   ]
  },
  {
   "cell_type": "code",
   "execution_count": 120,
   "id": "f60fc57e-c22c-44e7-99e4-ee79570342f2",
   "metadata": {},
   "outputs": [
    {
     "data": {
      "text/plain": [
       "array([  0.        ,  22.22222222,  44.44444444,  66.66666667,\n",
       "        88.88888889, 111.11111111, 133.33333333, 155.55555556,\n",
       "       177.77777778, 200.        ])"
      ]
     },
     "execution_count": 120,
     "metadata": {},
     "output_type": "execute_result"
    }
   ],
   "source": [
    "np.linspace(0,200,10) # default retstep = False"
   ]
  },
  {
   "cell_type": "code",
   "execution_count": 122,
   "id": "339e8073-4fd3-470a-b154-812c3d3a0de7",
   "metadata": {},
   "outputs": [
    {
     "data": {
      "text/plain": [
       "(array([  0.        ,  22.22222222,  44.44444444,  66.66666667,\n",
       "         88.88888889, 111.11111111, 133.33333333, 155.55555556,\n",
       "        177.77777778, 200.        ]),\n",
       " 22.22222222222222)"
      ]
     },
     "execution_count": 122,
     "metadata": {},
     "output_type": "execute_result"
    }
   ],
   "source": [
    "np.linspace(0,200,10,retstep=True)"
   ]
  },
  {
   "cell_type": "markdown",
   "id": "4041a5f2-2fab-4772-bb1f-fe6e40e5e2cf",
   "metadata": {},
   "source": [
    "### Eye\n",
    "#### Creates an indentity matrix"
   ]
  },
  {
   "cell_type": "code",
   "execution_count": 125,
   "id": "0bfec634-dd9f-4362-bf52-bc24c04ee0b1",
   "metadata": {},
   "outputs": [
    {
     "data": {
      "text/plain": [
       "array([[1., 0., 0., 0., 0.],\n",
       "       [0., 1., 0., 0., 0.],\n",
       "       [0., 0., 1., 0., 0.],\n",
       "       [0., 0., 0., 1., 0.],\n",
       "       [0., 0., 0., 0., 1.]])"
      ]
     },
     "execution_count": 125,
     "metadata": {},
     "output_type": "execute_result"
    }
   ],
   "source": [
    "np.eye(5) # generates 2nd array of (5,5)"
   ]
  },
  {
   "cell_type": "code",
   "execution_count": 127,
   "id": "4a99995c-396d-4539-94cf-0a2d134d6b94",
   "metadata": {},
   "outputs": [],
   "source": [
    "# Cretae an eye from a zeros array"
   ]
  },
  {
   "cell_type": "markdown",
   "id": "273528e2-aa88-4242-9616-0b8d089c80a8",
   "metadata": {},
   "source": [
    "### Broadcasting in an array"
   ]
  },
  {
   "cell_type": "code",
   "execution_count": 132,
   "id": "532ffa03-69b6-4188-95e4-1d21b4ebae04",
   "metadata": {},
   "outputs": [
    {
     "name": "stdout",
     "output_type": "stream",
     "text": [
      "[[1. 1. 1. 1.]\n",
      " [1. 1. 1. 1.]\n",
      " [1. 1. 1. 1.]]\n"
     ]
    }
   ],
   "source": [
    "big_one=np.ones((3,4))\n",
    "print(big_one)"
   ]
  },
  {
   "cell_type": "code",
   "execution_count": 134,
   "id": "40e815ce-a955-48ee-9a0a-d17daff3f484",
   "metadata": {},
   "outputs": [
    {
     "data": {
      "text/plain": [
       "dtype('float64')"
      ]
     },
     "execution_count": 134,
     "metadata": {},
     "output_type": "execute_result"
    }
   ],
   "source": [
    "big_one.dtype"
   ]
  },
  {
   "cell_type": "code",
   "execution_count": 136,
   "id": "a4991fa0-3361-4266-be6c-ffb1b9a33155",
   "metadata": {},
   "outputs": [
    {
     "data": {
      "text/plain": [
       "array([[3., 3., 3., 3.],\n",
       "       [3., 3., 3., 3.],\n",
       "       [3., 3., 3., 3.]])"
      ]
     },
     "execution_count": 136,
     "metadata": {},
     "output_type": "execute_result"
    }
   ],
   "source": [
    "big_one *3"
   ]
  },
  {
   "cell_type": "markdown",
   "id": "151a52b7-b929-42eb-bae2-fbfca14a3abf",
   "metadata": {},
   "source": [
    "### The ability to access each and every elements of an array is known as Broadcasting"
   ]
  },
  {
   "cell_type": "code",
   "execution_count": 139,
   "id": "3884be7f-3794-4ad6-81d9-0993729c7ebd",
   "metadata": {},
   "outputs": [
    {
     "data": {
      "text/plain": [
       "array([[4., 4., 4., 4.],\n",
       "       [4., 4., 4., 4.],\n",
       "       [4., 4., 4., 4.]])"
      ]
     },
     "execution_count": 139,
     "metadata": {},
     "output_type": "execute_result"
    }
   ],
   "source": [
    "bigger_one = big_one*6-2\n",
    "bigger_one"
   ]
  },
  {
   "cell_type": "code",
   "execution_count": 141,
   "id": "0adac72b-2df1-4dff-82b8-b845f7ba9d76",
   "metadata": {},
   "outputs": [
    {
     "name": "stdout",
     "output_type": "stream",
     "text": [
      "[[2 2 2 2]\n",
      " [2 2 2 2]\n",
      " [2 2 2 2]]\n"
     ]
    }
   ],
   "source": [
    "bigger = np.array(big_one*3-0.4, dtype='int')\n",
    "print(bigger)"
   ]
  },
  {
   "cell_type": "code",
   "execution_count": 143,
   "id": "bb45cd10-4b3a-4d5f-b856-103cf10aa1ac",
   "metadata": {},
   "outputs": [
    {
     "data": {
      "text/plain": [
       "dtype('int32')"
      ]
     },
     "execution_count": 143,
     "metadata": {},
     "output_type": "execute_result"
    }
   ],
   "source": [
    "bigger.dtype"
   ]
  },
  {
   "cell_type": "code",
   "execution_count": 145,
   "id": "5251ee24-56e9-4684-bd72-582e93f42409",
   "metadata": {},
   "outputs": [
    {
     "data": {
      "text/plain": [
       "numpy.ndarray"
      ]
     },
     "execution_count": 145,
     "metadata": {},
     "output_type": "execute_result"
    }
   ],
   "source": [
    "type(bigger)"
   ]
  },
  {
   "cell_type": "code",
   "execution_count": 147,
   "id": "1fe62824-18a3-4df3-8b3e-b3cccf315347",
   "metadata": {},
   "outputs": [
    {
     "data": {
      "text/plain": [
       "(3, 4)"
      ]
     },
     "execution_count": 147,
     "metadata": {},
     "output_type": "execute_result"
    }
   ],
   "source": [
    "bigger.shape"
   ]
  },
  {
   "cell_type": "code",
   "execution_count": 149,
   "id": "4b3be5b5-ee10-4ff2-a4c3-0606a16ed0c1",
   "metadata": {},
   "outputs": [
    {
     "data": {
      "text/plain": [
       "array([[1., 1., 1., 1.],\n",
       "       [1., 1., 1., 1.],\n",
       "       [1., 1., 1., 1.]])"
      ]
     },
     "execution_count": 149,
     "metadata": {},
     "output_type": "execute_result"
    }
   ],
   "source": [
    "bigger/bigger"
   ]
  },
  {
   "cell_type": "code",
   "execution_count": 151,
   "id": "ed111e29-89ee-4215-87c9-91241d339d4b",
   "metadata": {},
   "outputs": [],
   "source": [
    "arr1 =np.arange(20)"
   ]
  },
  {
   "cell_type": "code",
   "execution_count": 153,
   "id": "a0d9fb36-7767-4e99-aa08-7c4bf35da111",
   "metadata": {},
   "outputs": [
    {
     "data": {
      "text/plain": [
       "array([ 0,  1,  2,  3,  4,  5,  6,  7,  8,  9, 10, 11, 12, 13, 14, 15, 16,\n",
       "       17, 18, 19])"
      ]
     },
     "execution_count": 153,
     "metadata": {},
     "output_type": "execute_result"
    }
   ],
   "source": [
    "arr1"
   ]
  },
  {
   "cell_type": "code",
   "execution_count": 155,
   "id": "91b8e550-c9b6-4d29-bbc5-d8b221318f74",
   "metadata": {},
   "outputs": [
    {
     "data": {
      "text/plain": [
       "array([ 0,  2,  4,  6,  8, 10, 12, 14, 16, 18, 20, 22, 24, 26, 28, 30, 32,\n",
       "       34, 36, 38])"
      ]
     },
     "execution_count": 155,
     "metadata": {},
     "output_type": "execute_result"
    }
   ],
   "source": [
    "arr1 + arr1"
   ]
  },
  {
   "cell_type": "code",
   "execution_count": 157,
   "id": "e864c3f9-3e21-4780-b611-06438b2b101b",
   "metadata": {},
   "outputs": [
    {
     "data": {
      "text/plain": [
       "array([          1,           1,           4,          27,         256,\n",
       "              3125,       46656,      823543,    16777216,   387420489,\n",
       "        1410065408,  1843829075,  -251658240, -1692154371, -1282129920,\n",
       "        1500973039,           0,  1681328401,   457441280,  -306639989])"
      ]
     },
     "execution_count": 157,
     "metadata": {},
     "output_type": "execute_result"
    }
   ],
   "source": [
    "arr1 ** arr1"
   ]
  },
  {
   "cell_type": "markdown",
   "id": "f5b26373-fa05-49af-be48-92c2e40d61ad",
   "metadata": {},
   "source": [
    "## USE of Copy function"
   ]
  },
  {
   "cell_type": "code",
   "execution_count": 160,
   "id": "76cc421e-9582-40d7-89d7-20f1ba4862af",
   "metadata": {},
   "outputs": [
    {
     "data": {
      "text/plain": [
       "array([ 0,  1,  2,  3,  4,  5,  6,  7,  8,  9, 10, 11, 12, 13, 14, 15, 16,\n",
       "       17, 18, 19])"
      ]
     },
     "execution_count": 160,
     "metadata": {},
     "output_type": "execute_result"
    }
   ],
   "source": [
    "arr2 = arr1\n",
    "arr2"
   ]
  },
  {
   "cell_type": "code",
   "execution_count": 162,
   "id": "7bab5f74-2533-4484-8ca5-3c750365612e",
   "metadata": {},
   "outputs": [
    {
     "data": {
      "text/plain": [
       "array([30, 30, 30, 30, 30, 30, 30, 30, 30, 30, 10, 11, 12, 13, 14, 15, 16,\n",
       "       17, 18, 19])"
      ]
     },
     "execution_count": 162,
     "metadata": {},
     "output_type": "execute_result"
    }
   ],
   "source": [
    "arr2[:10]= 30 # using indexing/slicing to modify arr2\n",
    "arr2"
   ]
  },
  {
   "cell_type": "code",
   "execution_count": 164,
   "id": "63399eb2-7616-4255-a311-83a7aef82a42",
   "metadata": {},
   "outputs": [
    {
     "data": {
      "text/plain": [
       "array([30, 30, 30, 30, 30, 30, 30, 30, 30, 30, 10, 11, 12, 13, 14, 15, 16,\n",
       "       17, 18, 19])"
      ]
     },
     "execution_count": 164,
     "metadata": {},
     "output_type": "execute_result"
    }
   ],
   "source": [
    "arr1"
   ]
  },
  {
   "cell_type": "code",
   "execution_count": 166,
   "id": "fc570061-c3f0-4b41-a377-daafa1def899",
   "metadata": {},
   "outputs": [],
   "source": [
    "arr3 = arr1.copy() # generate a copy / creates a backup\n"
   ]
  },
  {
   "cell_type": "code",
   "execution_count": 168,
   "id": "7805ec6d-1887-4a59-85ed-40a6ad0e55fc",
   "metadata": {},
   "outputs": [
    {
     "data": {
      "text/plain": [
       "array([ 30,  30,  30,  30,  30,  30,  30,  30,  30,  30, 100, 100, 100,\n",
       "       100, 100, 100, 100, 100, 100, 100])"
      ]
     },
     "execution_count": 168,
     "metadata": {},
     "output_type": "execute_result"
    }
   ],
   "source": [
    "arr3[10:] = 100\n",
    "arr3"
   ]
  },
  {
   "cell_type": "code",
   "execution_count": 170,
   "id": "1d802f58-ba5c-48de-a2c8-7937b21fe33d",
   "metadata": {},
   "outputs": [
    {
     "data": {
      "text/plain": [
       "array([30, 30, 30, 30, 30, 30, 30, 30, 30, 30, 10, 11, 12, 13, 14, 15, 16,\n",
       "       17, 18, 19])"
      ]
     },
     "execution_count": 170,
     "metadata": {},
     "output_type": "execute_result"
    }
   ],
   "source": [
    "arr1 # copy function retains the original. copy creates a backup array."
   ]
  },
  {
   "cell_type": "markdown",
   "id": "82dedf86-7199-4963-ac20-257418760cc1",
   "metadata": {},
   "source": [
    "## Random NUmber Generation\n",
    "### Numpy also has lots of ways to creates random number arrys.\n",
    "## rand\n",
    "#### Creates an array of the given shape and populate it with random samples from a uniform distribution over [0,1]"
   ]
  },
  {
   "cell_type": "code",
   "execution_count": 173,
   "id": "0f613568-5da4-4b61-8593-7ea1af3fb32a",
   "metadata": {},
   "outputs": [],
   "source": [
    "import numpy as np"
   ]
  },
  {
   "cell_type": "code",
   "execution_count": 175,
   "id": "7e358497-4719-4f9a-9666-84373bf28fcb",
   "metadata": {},
   "outputs": [
    {
     "data": {
      "text/plain": [
       "0.12545459367245337"
      ]
     },
     "execution_count": 175,
     "metadata": {},
     "output_type": "execute_result"
    }
   ],
   "source": [
    "np.random.rand()"
   ]
  },
  {
   "cell_type": "code",
   "execution_count": 177,
   "id": "49cfc7ad-9e39-4f64-b102-63a828f35bd7",
   "metadata": {},
   "outputs": [
    {
     "data": {
      "text/plain": [
       "array([0.6758671 , 0.3824108 , 0.31183028, 0.92180646, 0.58326048,\n",
       "       0.93553956, 0.34117541, 0.58076487, 0.769164  , 0.22607344])"
      ]
     },
     "execution_count": 177,
     "metadata": {},
     "output_type": "execute_result"
    }
   ],
   "source": [
    "np.random.rand(10) # rand gives values between 0 adn 1"
   ]
  },
  {
   "cell_type": "code",
   "execution_count": 179,
   "id": "d202bd89-1083-44de-9d05-6210320feacb",
   "metadata": {},
   "outputs": [
    {
     "data": {
      "text/plain": [
       "array([[0.48225375, 0.77479093, 0.21069123, 0.52376821, 0.56135219],\n",
       "       [0.82925856, 0.17210657, 0.93751228, 0.50779812, 0.99822409]])"
      ]
     },
     "execution_count": 179,
     "metadata": {},
     "output_type": "execute_result"
    }
   ],
   "source": [
    "np.random.rand(10).reshape((2,5))"
   ]
  },
  {
   "cell_type": "code",
   "execution_count": 181,
   "id": "ad10e5b5-e03b-4767-8f4b-91a5ef5fa604",
   "metadata": {},
   "outputs": [],
   "source": [
    "# creating array from uniform distribution \n",
    "new_arr = np.random.rand(5,3)\n"
   ]
  },
  {
   "cell_type": "code",
   "execution_count": 183,
   "id": "bd3c1a5d-e89e-4ddb-aad1-eeb0fefc608f",
   "metadata": {},
   "outputs": [
    {
     "data": {
      "text/plain": [
       "array([[0.77695442, 0.12557069, 0.88881544],\n",
       "       [0.6970087 , 0.95037002, 0.18182281],\n",
       "       [0.9583233 , 0.4021074 , 0.60253477],\n",
       "       [0.22395227, 0.14679998, 0.18607585],\n",
       "       [0.04050059, 0.38576818, 0.39344415]])"
      ]
     },
     "execution_count": 183,
     "metadata": {},
     "output_type": "execute_result"
    }
   ],
   "source": [
    "new_arr"
   ]
  },
  {
   "cell_type": "code",
   "execution_count": 185,
   "id": "2f5a0508-d054-4f2a-b617-89926a3396e6",
   "metadata": {},
   "outputs": [
    {
     "data": {
      "text/plain": [
       "array([[0.60367789, 0.97720425, 0.45510756],\n",
       "       [0.14222043, 0.02927201, 0.36693424],\n",
       "       [0.8936441 , 0.70610948, 0.846438  ]])"
      ]
     },
     "execution_count": 185,
     "metadata": {},
     "output_type": "execute_result"
    }
   ],
   "source": [
    "np.random.rand(3,3)"
   ]
  },
  {
   "cell_type": "markdown",
   "id": "97430ba8-deb4-48fa-b336-12750d1ab5b1",
   "metadata": {},
   "source": [
    "### randn\n",
    "#### Return a sample (or samples) from the \"standard normal\" distribution. Unlike/ rand when uniform"
   ]
  },
  {
   "cell_type": "code",
   "execution_count": null,
   "id": "fb21af62-8534-4811-8195-09a001ff87ce",
   "metadata": {},
   "outputs": [],
   "source": [
    "# For randn, random numbbers generated will be in approximately -3 to +3 range."
   ]
  },
  {
   "cell_type": "code",
   "execution_count": 190,
   "id": "b975fc9a-ae30-4fbe-b631-27e6a1326705",
   "metadata": {},
   "outputs": [
    {
     "data": {
      "text/plain": [
       "array([0.27142991, 0.2209646 , 0.37674477, 0.87234773, 0.10110017,\n",
       "       0.33872499, 0.79854209, 0.6388239 , 0.74167135, 0.87574302,\n",
       "       0.53747739, 0.85653746, 0.54253432, 0.76345501, 0.41519984,\n",
       "       0.9237995 , 0.2676119 , 0.05709866, 0.64305606, 0.99493914,\n",
       "       0.31679947, 0.3114712 , 0.60928475, 0.75892073, 0.00796287,\n",
       "       0.86559235, 0.54253562, 0.81837681, 0.79578118, 0.73993547,\n",
       "       0.0725518 , 0.25189084, 0.28793718, 0.83027891, 0.76944249,\n",
       "       0.13222843, 0.02817643, 0.82792274, 0.5189253 , 0.70900956,\n",
       "       0.80011428, 0.21359201, 0.38530228, 0.05960907, 0.04977646,\n",
       "       0.56691768, 0.57412482, 0.83743258, 0.33707706, 0.42201562])"
      ]
     },
     "execution_count": 190,
     "metadata": {},
     "output_type": "execute_result"
    }
   ],
   "source": [
    "arr1 =np.random.random(50) # 50 observations from std normal distribution\n",
    "arr1"
   ]
  },
  {
   "cell_type": "code",
   "execution_count": 192,
   "id": "c5b436bc-c346-41f7-a010-68e6e353fc16",
   "metadata": {},
   "outputs": [
    {
     "data": {
      "text/plain": [
       "0.994939137809265"
      ]
     },
     "execution_count": 192,
     "metadata": {},
     "output_type": "execute_result"
    }
   ],
   "source": [
    "max(arr1)"
   ]
  },
  {
   "cell_type": "code",
   "execution_count": 194,
   "id": "e2ce5ded-b50b-40f2-987b-eaf3b795456f",
   "metadata": {},
   "outputs": [
    {
     "data": {
      "text/plain": [
       "0.007962872621734562"
      ]
     },
     "execution_count": 194,
     "metadata": {},
     "output_type": "execute_result"
    }
   ],
   "source": [
    "min(arr1)"
   ]
  },
  {
   "cell_type": "code",
   "execution_count": 196,
   "id": "26aa7874-f27f-46ff-99f3-d6307fcab8a7",
   "metadata": {},
   "outputs": [
    {
     "data": {
      "text/plain": [
       "array([[-0.18858098, -1.03466377,  0.03133868],\n",
       "       [ 0.39276937,  0.83165137, -0.4642823 ],\n",
       "       [-1.10445464,  0.04506071, -1.00665051]])"
      ]
     },
     "execution_count": 196,
     "metadata": {},
     "output_type": "execute_result"
    }
   ],
   "source": [
    "np.random.randn(3,3)"
   ]
  },
  {
   "cell_type": "markdown",
   "id": "4632aa6c-23d6-4a89-9c6e-1da6c19c2d76",
   "metadata": {},
   "source": [
    "#### randint\n",
    "##### REturn random integers from low (inclusive) to high (exclusive)"
   ]
  },
  {
   "cell_type": "markdown",
   "id": "8607e705-5bd3-4214-aa3f-5f0a2b7f8337",
   "metadata": {},
   "source": [
    "np.random.randint(1,100)"
   ]
  },
  {
   "cell_type": "code",
   "execution_count": 201,
   "id": "160ba3ed-e5c0-4ed2-b598-530acac8b99c",
   "metadata": {},
   "outputs": [
    {
     "data": {
      "text/plain": [
       "array([40, 48, 81, 74, 63, 63, 10, 40, 62, 33])"
      ]
     },
     "execution_count": 201,
     "metadata": {},
     "output_type": "execute_result"
    }
   ],
   "source": [
    "np.random.randint(1,100,10)"
   ]
  },
  {
   "cell_type": "code",
   "execution_count": 203,
   "id": "efd789d4-f4ad-4a5b-9e81-da97ceb5d1a9",
   "metadata": {},
   "outputs": [
    {
     "data": {
      "text/plain": [
       "array([40, 57, 47, 44, 55, 50, 46, 58, 45, 47, 47, 49, 57, 59, 54, 48, 51,\n",
       "       40, 42, 48, 55, 46, 55, 48, 52, 46, 56, 51, 40, 45, 52, 47, 47, 56,\n",
       "       40, 55, 50, 47, 58, 42, 43, 40, 44, 42, 46, 53, 42, 55, 56, 58])"
      ]
     },
     "execution_count": 203,
     "metadata": {},
     "output_type": "execute_result"
    }
   ],
   "source": [
    "np.random.randint(40,60,50)"
   ]
  },
  {
   "cell_type": "markdown",
   "id": "c4e78dc0-2bc8-4068-aa24-29a0d2a1fbb1",
   "metadata": {},
   "source": [
    "## Array Attributes and methods\n",
    "### Let's discuss some useful attributes and methods or an array:"
   ]
  },
  {
   "cell_type": "code",
   "execution_count": 210,
   "id": "9ce4e968-83f0-455b-9625-0690de84d210",
   "metadata": {},
   "outputs": [
    {
     "data": {
      "text/plain": [
       "array([ 0,  1,  2,  3,  4,  5,  6,  7,  8,  9, 10, 11, 12, 13, 14, 15, 16,\n",
       "       17, 18, 19])"
      ]
     },
     "execution_count": 210,
     "metadata": {},
     "output_type": "execute_result"
    }
   ],
   "source": [
    "arr = np.arange(20)\n",
    "ranarr = np.random.randint(0,100,10)\n",
    "arr"
   ]
  },
  {
   "cell_type": "code",
   "execution_count": 212,
   "id": "43110ccc-5e30-489d-87bb-ec7ece7685bd",
   "metadata": {},
   "outputs": [
    {
     "data": {
      "text/plain": [
       "array([21, 27, 56, 44, 14, 88, 79, 20, 12, 74])"
      ]
     },
     "execution_count": 212,
     "metadata": {},
     "output_type": "execute_result"
    }
   ],
   "source": [
    "ranarr"
   ]
  },
  {
   "cell_type": "markdown",
   "id": "c38c8aae-576c-4719-ba27-11a33bdbde6d",
   "metadata": {},
   "source": [
    "### max, min, argmax, argmin\n",
    "#### These are useful methods for finding max or min values. Or to find their index locations argmin or argmax"
   ]
  },
  {
   "cell_type": "code",
   "execution_count": 215,
   "id": "4f8c4167-135a-4305-a93a-3bc9ccf14a77",
   "metadata": {},
   "outputs": [
    {
     "data": {
      "text/plain": [
       "array([21, 27, 56, 44, 14, 88, 79, 20, 12, 74])"
      ]
     },
     "execution_count": 215,
     "metadata": {},
     "output_type": "execute_result"
    }
   ],
   "source": [
    "ranarr"
   ]
  },
  {
   "cell_type": "code",
   "execution_count": 217,
   "id": "1a461338-ad67-4446-8154-bf7b14272c28",
   "metadata": {},
   "outputs": [
    {
     "data": {
      "text/plain": [
       "88"
      ]
     },
     "execution_count": 217,
     "metadata": {},
     "output_type": "execute_result"
    }
   ],
   "source": [
    "ranarr.max() # highest elemenet of the array"
   ]
  },
  {
   "cell_type": "code",
   "execution_count": 219,
   "id": "4c025d6f-2a63-4cbc-916f-cce898dcd020",
   "metadata": {},
   "outputs": [
    {
     "data": {
      "text/plain": [
       "19"
      ]
     },
     "execution_count": 219,
     "metadata": {},
     "output_type": "execute_result"
    }
   ],
   "source": [
    "arr.max()"
   ]
  },
  {
   "cell_type": "code",
   "execution_count": 221,
   "id": "3bb59fed-8dff-47f3-9e89-63f3ce59d39f",
   "metadata": {},
   "outputs": [
    {
     "data": {
      "text/plain": [
       "5"
      ]
     },
     "execution_count": 221,
     "metadata": {},
     "output_type": "execute_result"
    }
   ],
   "source": [
    "ranarr.argmax() # index location of highest element"
   ]
  },
  {
   "cell_type": "code",
   "execution_count": 223,
   "id": "3b441026-9247-49f8-9b20-9cae146efdda",
   "metadata": {},
   "outputs": [
    {
     "data": {
      "text/plain": [
       "12"
      ]
     },
     "execution_count": 223,
     "metadata": {},
     "output_type": "execute_result"
    }
   ],
   "source": [
    "ranarr.min() # Gives the lowest element of array"
   ]
  },
  {
   "cell_type": "code",
   "execution_count": 225,
   "id": "567ef416-886f-4f41-88b4-a1e0a466c2d6",
   "metadata": {},
   "outputs": [
    {
     "data": {
      "text/plain": [
       "8"
      ]
     },
     "execution_count": 225,
     "metadata": {},
     "output_type": "execute_result"
    }
   ],
   "source": [
    "ranarr.argmin() # Index location of lowest element"
   ]
  },
  {
   "cell_type": "code",
   "execution_count": 227,
   "id": "251c1c0a-95c3-42e7-a227-722234f5150d",
   "metadata": {},
   "outputs": [
    {
     "ename": "NameError",
     "evalue": "name 'ran2' is not defined",
     "output_type": "error",
     "traceback": [
      "\u001b[1;31m---------------------------------------------------------------------------\u001b[0m",
      "\u001b[1;31mNameError\u001b[0m                                 Traceback (most recent call last)",
      "Cell \u001b[1;32mIn[227], line 1\u001b[0m\n\u001b[1;32m----> 1\u001b[0m ran2\u001b[38;5;241m.\u001b[39margmax()\n",
      "\u001b[1;31mNameError\u001b[0m: name 'ran2' is not defined"
     ]
    }
   ],
   "source": [
    "ran2.argmax()"
   ]
  },
  {
   "cell_type": "code",
   "execution_count": 229,
   "id": "362caacf-8c6f-442c-8ad0-f5047c6b8bea",
   "metadata": {},
   "outputs": [
    {
     "ename": "NameError",
     "evalue": "name 'ran2' is not defined",
     "output_type": "error",
     "traceback": [
      "\u001b[1;31m---------------------------------------------------------------------------\u001b[0m",
      "\u001b[1;31mNameError\u001b[0m                                 Traceback (most recent call last)",
      "Cell \u001b[1;32mIn[229], line 1\u001b[0m\n\u001b[1;32m----> 1\u001b[0m ran2\u001b[38;5;241m.\u001b[39mmax()\n",
      "\u001b[1;31mNameError\u001b[0m: name 'ran2' is not defined"
     ]
    }
   ],
   "source": [
    "ran2.max()"
   ]
  }
 ],
 "metadata": {
  "kernelspec": {
   "display_name": "Python 3 (ipykernel)",
   "language": "python",
   "name": "python3"
  },
  "language_info": {
   "codemirror_mode": {
    "name": "ipython",
    "version": 3
   },
   "file_extension": ".py",
   "mimetype": "text/x-python",
   "name": "python",
   "nbconvert_exporter": "python",
   "pygments_lexer": "ipython3",
   "version": "3.12.7"
  }
 },
 "nbformat": 4,
 "nbformat_minor": 5
}
